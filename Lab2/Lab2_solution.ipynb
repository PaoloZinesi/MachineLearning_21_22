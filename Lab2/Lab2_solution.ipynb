{
 "cells": [
  {
   "cell_type": "markdown",
   "metadata": {},
   "source": [
    "# Kuzushiji Classification with Support Vector Machines\n",
    "\n",
    "In this notebook we are going to explore the use of Support Vector Machines (SVM) for image classification. We will use a variant of the famous MNIST dataset (the original is a dataset of handwritten digits). The version we are going to use is called Kuzushiji-MNIST or K-MNIST for short (https://github.com/rois-codh/kmnist) and is a dataset of traditional japanese handwritten kana.\n",
    "\n",
    "\n",
    "\n",
    "The dataset labels are the following:\n",
    "\n",
    "| Label | Hiragana Character | Romanji (Pronunciation) |\n",
    "| :-: | :-: | :-: |\n",
    "|   0   | お | o |\n",
    "| 1 | き | ki |\n",
    "| 2 | す | su |\n",
    "| 3 | つ | tsu |\n",
    "| 4 | な | na |\n",
    "| 5 | は | ha |\n",
    "| 6 | ま | ma |\n",
    "| 7 | や | ya |\n",
    "| 8 | れ | re |\n",
    "| 9 | を | wo |"
   ]
  },
  {
   "cell_type": "markdown",
   "metadata": {},
   "source": [
    "## DONE: Insert your surname, name and ID number\n",
    "\n",
    "Student surname: Zinesi\n",
    "\n",
    "Student name: Paolo\n",
    "    \n",
    "ID: 2053062"
   ]
  },
  {
   "cell_type": "code",
   "execution_count": 1,
   "metadata": {},
   "outputs": [],
   "source": [
    "#load the required packages\n",
    "\n",
    "%matplotlib inline  \n",
    "\n",
    "import numpy as np\n",
    "import scipy as sp\n",
    "import matplotlib.pyplot as plt\n",
    "import matplotlib.colors as colors\n",
    "\n",
    "import sklearn\n",
    "from sklearn.datasets import fetch_openml\n",
    "from sklearn.neural_network import MLPClassifier\n",
    "from sklearn.decomposition import PCA\n",
    "import sklearn.metrics as skm\n",
    "\n",
    "import pandas as pd"
   ]
  },
  {
   "cell_type": "code",
   "execution_count": 2,
   "metadata": {},
   "outputs": [],
   "source": [
    "# helper function to load Kuzushiji-MNIST dataset\n",
    "def load_mnist(path, kind='train'):\n",
    "    import os\n",
    "    import gzip\n",
    "    import numpy as np\n",
    "    labels_path = os.path.join(path, 'K%s-labels-idx1-ubyte.gz' % kind)\n",
    "    images_path = os.path.join(path, 'K%s-images-idx3-ubyte.gz' % kind)\n",
    "    with gzip.open(labels_path, 'rb') as lbpath:\n",
    "        labels = np.frombuffer(lbpath.read(), dtype=np.uint8,offset=8)\n",
    "    with gzip.open(images_path, 'rb') as imgpath:\n",
    "        images = np.frombuffer(imgpath.read(), dtype=np.uint8,offset=16).reshape(len(labels), 784)\n",
    "    return images, labels"
   ]
  },
  {
   "cell_type": "code",
   "execution_count": 3,
   "metadata": {},
   "outputs": [],
   "source": [
    "#fix your ID (\"numero di matricola\") and the seed for random generator (as usual you can try different seeds)\n",
    "ID = 2053062\n",
    "np.random.seed(ID)"
   ]
  },
  {
   "cell_type": "code",
   "execution_count": 4,
   "metadata": {},
   "outputs": [
    {
     "name": "stdout",
     "output_type": "stream",
     "text": [
      "(60000, 784) (60000,)\n"
     ]
    }
   ],
   "source": [
    "#load the K-MNIST dataset from the 'data' folder and let's normalize the features so that each value is in [0,1] \n",
    "\n",
    "X, y = load_mnist('data', kind='train')\n",
    "# rescale the data\n",
    "X, y = X / 255., y # original pixel values are between 0 and 255\n",
    "print(X.shape, y.shape)"
   ]
  },
  {
   "cell_type": "markdown",
   "metadata": {},
   "source": [
    "Now split into training and test. Make sure that each label is present at least 10 times\n",
    "in training. If it is not, then keep adding permutations to the initial data until this \n",
    "happens."
   ]
  },
  {
   "cell_type": "code",
   "execution_count": 5,
   "metadata": {},
   "outputs": [
    {
     "name": "stdout",
     "output_type": "stream",
     "text": [
      "Labels in training dataset:  [0 1 2 3 4 5 6 7 8 9]\n",
      "Frequencies in training dataset:  [61 61 63 52 59 65 45 75 54 65]\n"
     ]
    }
   ],
   "source": [
    "# Random permute the data and split into training and test taking the first 600\n",
    "# data samples as training and 4000 samples as test\n",
    "permutation = np.random.permutation(X.shape[0])\n",
    "\n",
    "X = X[permutation]\n",
    "y = y[permutation]\n",
    "\n",
    "m_training = 600\n",
    "m_test = 4000\n",
    "\n",
    "X_train, X_test = X[:m_training], X[m_training:m_training+m_test:]\n",
    "y_train, y_test = y[:m_training], y[m_training:m_training+m_test:]\n",
    "\n",
    "labels, freqs = np.unique(y_train, return_counts=True)\n",
    "print(\"Labels in training dataset: \", labels)\n",
    "print(\"Frequencies in training dataset: \", freqs)\n"
   ]
  },
  {
   "cell_type": "code",
   "execution_count": 6,
   "metadata": {},
   "outputs": [],
   "source": [
    "#function for plotting a image and printing the corresponding label\n",
    "def plot_input(X_matrix, labels, index):\n",
    "    print(\"INPUT:\")\n",
    "    plt.imshow(\n",
    "        X_matrix[index].reshape(28,28),\n",
    "        cmap          = plt.cm.gray_r,\n",
    "        interpolation = \"nearest\"\n",
    "    )\n",
    "    plt.show()\n",
    "    print(\"LABEL: %i\"%labels[index])\n",
    "    return"
   ]
  },
  {
   "cell_type": "code",
   "execution_count": 7,
   "metadata": {},
   "outputs": [
    {
     "name": "stdout",
     "output_type": "stream",
     "text": [
      "INPUT:\n"
     ]
    },
    {
     "data": {
      "image/png": "[encoded data removed]",
      "text/plain": [
       "<Figure size 432x288 with 1 Axes>"
      ]
     },
     "metadata": {
      "needs_background": "light"
     },
     "output_type": "display_data"
    },
    {
     "name": "stdout",
     "output_type": "stream",
     "text": [
      "LABEL: 4\n",
      "INPUT:\n"
     ]
    },
    {
     "data": {
      "image/png": "[encoded data removed]",
      "text/plain": [
       "<Figure size 432x288 with 1 Axes>"
      ]
     },
     "metadata": {
      "needs_background": "light"
     },
     "output_type": "display_data"
    },
    {
     "name": "stdout",
     "output_type": "stream",
     "text": [
      "LABEL: 5\n",
      "INPUT:\n"
     ]
    },
    {
     "data": {
      "image/png": "[encoded data removed]",
      "text/plain": [
       "<Figure size 432x288 with 1 Axes>"
      ]
     },
     "metadata": {
      "needs_background": "light"
     },
     "output_type": "display_data"
    },
    {
     "name": "stdout",
     "output_type": "stream",
     "text": [
      "LABEL: 4\n",
      "INPUT:\n"
     ]
    },
    {
     "data": {
      "image/png": "[encoded data removed]",
      "text/plain": [
       "<Figure size 432x288 with 1 Axes>"
      ]
     },
     "metadata": {
      "needs_background": "light"
     },
     "output_type": "display_data"
    },
    {
     "name": "stdout",
     "output_type": "stream",
     "text": [
      "LABEL: 6\n"
     ]
    }
   ],
   "source": [
    "#let's try the plotting function\n",
    "plot_input(X_train,y_train,5)\n",
    "plot_input(X_test,y_test,50)\n",
    "plot_input(X_test,y_test,500)\n",
    "plot_input(X_test,y_test,700)"
   ]
  },
  {
   "cell_type": "markdown",
   "metadata": {},
   "source": [
    "## DONE 1\n",
    "Use a SVM classifier with cross validation to pick a model. Use a 4-fold cross-validation. Let's start with a Linear kernel:"
   ]
  },
  {
   "cell_type": "code",
   "execution_count": 8,
   "metadata": {},
   "outputs": [
    {
     "name": "stdout",
     "output_type": "stream",
     "text": [
      "RESULTS FOR LINEAR KERNEL\n",
      "   mean_fit_time  std_fit_time  mean_score_time  std_score_time param_C  \\\n",
      "0       0.073917      0.031185         0.020649        0.010755    0.01   \n",
      "1       0.037589      0.001080         0.009453        0.000569     0.1   \n",
      "2       0.057610      0.023366         0.018213        0.011076       1   \n",
      "3       0.049576      0.016435         0.011460        0.002248      10   \n",
      "\n",
      "        params  split0_test_score  split1_test_score  split2_test_score  \\\n",
      "0  {'C': 0.01}           0.720000               0.72           0.760000   \n",
      "1   {'C': 0.1}           0.733333               0.74           0.733333   \n",
      "2     {'C': 1}           0.733333               0.74           0.733333   \n",
      "3    {'C': 10}           0.733333               0.74           0.733333   \n",
      "\n",
      "   split3_test_score  mean_test_score  std_test_score  rank_test_score  \n",
      "0           0.766667         0.741667        0.021794                1  \n",
      "1           0.746667         0.738333        0.005528                2  \n",
      "2           0.746667         0.738333        0.005528                2  \n",
      "3           0.746667         0.738333        0.005528                2  \n",
      "\n",
      "\n",
      "Best parameters set found:\n",
      "{'C': 0.01}\n",
      "\n",
      "Score with best parameters:\n",
      "0.7416666666666667\n",
      "\n",
      "Mean test scores on the grid (see the first table for more details):\n",
      "        params  mean_test_score\n",
      "0  {'C': 0.01}         0.741667\n",
      "1   {'C': 0.1}         0.738333\n",
      "2     {'C': 1}         0.738333\n",
      "3    {'C': 10}         0.738333\n"
     ]
    }
   ],
   "source": [
    "#import SVC\n",
    "from sklearn.svm import SVC\n",
    "#import for Cross-Validation\n",
    "from sklearn.model_selection import GridSearchCV\n",
    "\n",
    "# parameters for linear SVM\n",
    "parameters = {'C': [0.01, 0.1, 1, 10]}\n",
    "\n",
    "#train linear SVM\n",
    "linsvc = SVC(kernel=\"linear\")\n",
    "gsearch = GridSearchCV(linsvc, parameters, cv=4)\n",
    "gsearch.fit(X_train,y_train)\n",
    "\n",
    "print ('RESULTS FOR LINEAR KERNEL')\n",
    "cvres = pd.DataFrame.from_dict(gsearch.cv_results_)\n",
    "print(cvres)\n",
    "\n",
    "print(\"\\n\\nBest parameters set found:\")\n",
    "print(gsearch.best_params_)\n",
    "\n",
    "print(\"\\nScore with best parameters:\")\n",
    "print(gsearch.best_score_)\n",
    "\n",
    "print(\"\\nMean test scores on the grid (see the first table for more details):\")\n",
    "print(cvres.loc[:,[\"params\",\"mean_test_score\"]])"
   ]
  },
  {
   "cell_type": "markdown",
   "metadata": {},
   "source": [
    "## DONE 2\n",
    "Pick a model for the Polynomial kernel with degree=2:"
   ]
  },
  {
   "cell_type": "code",
   "execution_count": 9,
   "metadata": {},
   "outputs": [
    {
     "name": "stdout",
     "output_type": "stream",
     "text": [
      "RESULTS FOR POLY DEGREE=2 KERNEL\n",
      "   mean_fit_time  std_fit_time  mean_score_time  std_score_time param_C  \\\n",
      "0       0.060019      0.008206         0.011252        0.000227    0.01   \n",
      "1       0.062240      0.022181         0.017855        0.006958    0.01   \n",
      "2       0.062258      0.027140         0.010318        0.000795    0.01   \n",
      "3       0.056055      0.001763         0.013692        0.002438     0.1   \n",
      "4       0.047721      0.000552         0.012816        0.002044     0.1   \n",
      "5       0.052231      0.004576         0.012157        0.001865     0.1   \n",
      "6       0.047472      0.001531         0.010590        0.001718       1   \n",
      "7       0.048794      0.002466         0.011549        0.001279       1   \n",
      "8       0.051535      0.002096         0.012099        0.001190       1   \n",
      "\n",
      "  param_gamma                      params  split0_test_score  \\\n",
      "0        0.01  {'C': 0.01, 'gamma': 0.01}           0.120000   \n",
      "1         0.1   {'C': 0.01, 'gamma': 0.1}           0.786667   \n",
      "2           1     {'C': 0.01, 'gamma': 1}           0.806667   \n",
      "3        0.01   {'C': 0.1, 'gamma': 0.01}           0.440000   \n",
      "4         0.1    {'C': 0.1, 'gamma': 0.1}           0.806667   \n",
      "5           1      {'C': 0.1, 'gamma': 1}           0.806667   \n",
      "6        0.01     {'C': 1, 'gamma': 0.01}           0.786667   \n",
      "7         0.1      {'C': 1, 'gamma': 0.1}           0.806667   \n",
      "8           1        {'C': 1, 'gamma': 1}           0.806667   \n",
      "\n",
      "   split1_test_score  split2_test_score  split3_test_score  mean_test_score  \\\n",
      "0           0.126667           0.126667           0.126667         0.125000   \n",
      "1           0.753333           0.786667           0.793333         0.780000   \n",
      "2           0.746667           0.793333           0.753333         0.775000   \n",
      "3           0.520000           0.513333           0.500000         0.493333   \n",
      "4           0.733333           0.800000           0.766667         0.776667   \n",
      "5           0.746667           0.793333           0.753333         0.775000   \n",
      "6           0.753333           0.786667           0.793333         0.780000   \n",
      "7           0.746667           0.793333           0.753333         0.775000   \n",
      "8           0.746667           0.793333           0.753333         0.775000   \n",
      "\n",
      "   std_test_score  rank_test_score  \n",
      "0        0.002887                9  \n",
      "1        0.015635                1  \n",
      "2        0.025550                4  \n",
      "3        0.031623                8  \n",
      "4        0.029250                3  \n",
      "5        0.025550                4  \n",
      "6        0.015635                1  \n",
      "7        0.025550                4  \n",
      "8        0.025550                4  \n",
      "\n",
      "\n",
      "Best parameters set found:\n",
      "{'C': 0.01, 'gamma': 0.1}\n",
      "\n",
      "Score with best parameters:\n",
      "0.78\n",
      "\n",
      "Mean test scores on the grid (see the first table for more details):\n",
      "                       params  mean_test_score\n",
      "0  {'C': 0.01, 'gamma': 0.01}         0.125000\n",
      "1   {'C': 0.01, 'gamma': 0.1}         0.780000\n",
      "2     {'C': 0.01, 'gamma': 1}         0.775000\n",
      "3   {'C': 0.1, 'gamma': 0.01}         0.493333\n",
      "4    {'C': 0.1, 'gamma': 0.1}         0.776667\n",
      "5      {'C': 0.1, 'gamma': 1}         0.775000\n",
      "6     {'C': 1, 'gamma': 0.01}         0.780000\n",
      "7      {'C': 1, 'gamma': 0.1}         0.775000\n",
      "8        {'C': 1, 'gamma': 1}         0.775000\n"
     ]
    }
   ],
   "source": [
    "# parameters for poly with degree 2 kernel\n",
    "parameters = {'C': [0.01, 0.1, 1],'gamma':[0.01,0.1,1]}\n",
    "\n",
    "#run SVM with poly of degree 2 kernel\n",
    "deg2svc = SVC(kernel=\"poly\", degree=2)\n",
    "gsearch = GridSearchCV(deg2svc, parameters, cv=4)\n",
    "gsearch.fit(X_train,y_train)\n",
    "\n",
    "print ('RESULTS FOR POLY DEGREE=2 KERNEL')\n",
    "cvres = pd.DataFrame.from_dict(gsearch.cv_results_)\n",
    "print(cvres)\n",
    "\n",
    "print(\"\\n\\nBest parameters set found:\")\n",
    "print(gsearch.best_params_)\n",
    "\n",
    "print(\"\\nScore with best parameters:\")\n",
    "print(gsearch.best_score_)\n",
    "\n",
    "print(\"\\nMean test scores on the grid (see the first table for more details):\")\n",
    "print(cvres.loc[:,[\"params\",\"mean_test_score\"]])"
   ]
  },
  {
   "cell_type": "markdown",
   "metadata": {},
   "source": [
    "## DONE 3\n",
    "\n",
    "Now let's try a higher degree for the polynomial kernel (e.g., 3rd degree)."
   ]
  },
  {
   "cell_type": "code",
   "execution_count": 10,
   "metadata": {},
   "outputs": [
    {
     "name": "stdout",
     "output_type": "stream",
     "text": [
      "RESULTS FOR POLY DEGREE= 3  KERNEL\n",
      "   mean_fit_time  std_fit_time  mean_score_time  std_score_time param_C  \\\n",
      "0       0.065904      0.007249         0.013586        0.001266    0.01   \n",
      "1       0.052192      0.000800         0.010137        0.000631    0.01   \n",
      "2       0.055269      0.003098         0.011638        0.001346    0.01   \n",
      "3       0.059899      0.000725         0.015429        0.002816     0.1   \n",
      "4       0.057642      0.003510         0.011064        0.000834     0.1   \n",
      "5       0.050608      0.001159         0.009439        0.000343     0.1   \n",
      "6       0.049560      0.001222         0.009799        0.000148       1   \n",
      "7       0.054828      0.003265         0.011966        0.003458       1   \n",
      "8       0.086290      0.029861         0.018808        0.006980       1   \n",
      "\n",
      "  param_gamma                      params  split0_test_score  \\\n",
      "0        0.01  {'C': 0.01, 'gamma': 0.01}           0.120000   \n",
      "1         0.1   {'C': 0.01, 'gamma': 0.1}           0.793333   \n",
      "2           1     {'C': 0.01, 'gamma': 1}           0.746667   \n",
      "3        0.01   {'C': 0.1, 'gamma': 0.01}           0.366667   \n",
      "4         0.1    {'C': 0.1, 'gamma': 0.1}           0.746667   \n",
      "5           1      {'C': 0.1, 'gamma': 1}           0.746667   \n",
      "6        0.01     {'C': 1, 'gamma': 0.01}           0.760000   \n",
      "7         0.1      {'C': 1, 'gamma': 0.1}           0.746667   \n",
      "8           1        {'C': 1, 'gamma': 1}           0.746667   \n",
      "\n",
      "   split1_test_score  split2_test_score  split3_test_score  mean_test_score  \\\n",
      "0           0.126667           0.126667           0.126667         0.125000   \n",
      "1           0.646667           0.700000           0.686667         0.706667   \n",
      "2           0.673333           0.666667           0.700000         0.696667   \n",
      "3           0.453333           0.506667           0.486667         0.453333   \n",
      "4           0.673333           0.666667           0.700000         0.696667   \n",
      "5           0.673333           0.666667           0.700000         0.696667   \n",
      "6           0.706667           0.740000           0.700000         0.726667   \n",
      "7           0.673333           0.666667           0.700000         0.696667   \n",
      "8           0.673333           0.666667           0.700000         0.696667   \n",
      "\n",
      "   std_test_score  rank_test_score  \n",
      "0        0.002887                9  \n",
      "1        0.053748                2  \n",
      "2        0.031447                3  \n",
      "3        0.053541                8  \n",
      "4        0.031447                3  \n",
      "5        0.031447                3  \n",
      "6        0.024495                1  \n",
      "7        0.031447                3  \n",
      "8        0.031447                3  \n",
      "\n",
      "\n",
      "Best parameters set found:\n",
      "{'C': 1, 'gamma': 0.01}\n",
      "\n",
      "Score with best parameters:\n",
      "0.7266666666666668\n",
      "\n",
      "Mean test scores on the grid (see the first table for more details):\n",
      "                       params  mean_test_score\n",
      "0  {'C': 0.01, 'gamma': 0.01}         0.125000\n",
      "1   {'C': 0.01, 'gamma': 0.1}         0.706667\n",
      "2     {'C': 0.01, 'gamma': 1}         0.696667\n",
      "3   {'C': 0.1, 'gamma': 0.01}         0.453333\n",
      "4    {'C': 0.1, 'gamma': 0.1}         0.696667\n",
      "5      {'C': 0.1, 'gamma': 1}         0.696667\n",
      "6     {'C': 1, 'gamma': 0.01}         0.726667\n",
      "7      {'C': 1, 'gamma': 0.1}         0.696667\n",
      "8        {'C': 1, 'gamma': 1}         0.696667\n"
     ]
    }
   ],
   "source": [
    "# parameters for poly with higher degree kernel\n",
    "parameters = {'C': [0.01, 0.1, 1],'gamma':[0.01,0.1,1]}\n",
    "\n",
    "#run SVM with poly of higher degree kernel\n",
    "degree = 3\n",
    "\n",
    "degNsvc = SVC(kernel=\"poly\", degree=degree)\n",
    "gsearch = GridSearchCV(degNsvc, parameters, cv=4)\n",
    "gsearch.fit(X_train,y_train)\n",
    "\n",
    "print ('RESULTS FOR POLY DEGREE=', degree, ' KERNEL')\n",
    "cvres = pd.DataFrame.from_dict(gsearch.cv_results_)\n",
    "print(cvres)\n",
    "\n",
    "print(\"\\n\\nBest parameters set found:\")\n",
    "print(gsearch.best_params_)\n",
    "\n",
    "print(\"\\nScore with best parameters:\")\n",
    "print(gsearch.best_score_)\n",
    "\n",
    "print(\"\\nMean test scores on the grid (see the first table for more details):\")\n",
    "print(cvres.loc[:,[\"params\",\"mean_test_score\"]])"
   ]
  },
  {
   "cell_type": "markdown",
   "metadata": {},
   "source": [
    "## DONE 4\n",
    "Pick a model for the Radial Basis Function kernel:"
   ]
  },
  {
   "cell_type": "code",
   "execution_count": 11,
   "metadata": {
    "scrolled": true
   },
   "outputs": [
    {
     "name": "stdout",
     "output_type": "stream",
     "text": [
      "RESULTS FOR rbf KERNEL\n",
      "    mean_fit_time  std_fit_time  mean_score_time  std_score_time param_C  \\\n",
      "0        0.067592      0.003482         0.031300        0.002869     0.1   \n",
      "1        0.072859      0.003532         0.031948        0.002079     0.1   \n",
      "2        0.068495      0.002769         0.028472        0.001470     0.1   \n",
      "3        0.134923      0.094637         0.056758        0.029329     0.1   \n",
      "4        0.055231      0.001213         0.026301        0.000643       1   \n",
      "5        0.086838      0.037019         0.040369        0.014905       1   \n",
      "6        0.073462      0.003620         0.031760        0.002562       1   \n",
      "7        0.072207      0.003542         0.031075        0.002791       1   \n",
      "8        0.043329      0.003137         0.024442        0.000935      10   \n",
      "9        0.077070      0.018258         0.035126        0.015019      10   \n",
      "10       0.077296      0.006623         0.032499        0.004474      10   \n",
      "11       0.099635      0.030980         0.040449        0.018459      10   \n",
      "12       0.048264      0.003361         0.025167        0.002059     100   \n",
      "13       0.068906      0.002542         0.029447        0.002794     100   \n",
      "14       0.072217      0.004065         0.029054        0.002078     100   \n",
      "15       0.077946      0.005441         0.035598        0.002577     100   \n",
      "\n",
      "   param_gamma                      params  split0_test_score  \\\n",
      "0        0.001  {'C': 0.1, 'gamma': 0.001}           0.120000   \n",
      "1         0.01   {'C': 0.1, 'gamma': 0.01}           0.120000   \n",
      "2          0.1    {'C': 0.1, 'gamma': 0.1}           0.120000   \n",
      "3            1      {'C': 0.1, 'gamma': 1}           0.120000   \n",
      "4        0.001    {'C': 1, 'gamma': 0.001}           0.566667   \n",
      "5         0.01     {'C': 1, 'gamma': 0.01}           0.806667   \n",
      "6          0.1      {'C': 1, 'gamma': 0.1}           0.126667   \n",
      "7            1        {'C': 1, 'gamma': 1}           0.120000   \n",
      "8        0.001   {'C': 10, 'gamma': 0.001}           0.740000   \n",
      "9         0.01    {'C': 10, 'gamma': 0.01}           0.826667   \n",
      "10         0.1     {'C': 10, 'gamma': 0.1}           0.160000   \n",
      "11           1       {'C': 10, 'gamma': 1}           0.120000   \n",
      "12       0.001  {'C': 100, 'gamma': 0.001}           0.753333   \n",
      "13        0.01   {'C': 100, 'gamma': 0.01}           0.826667   \n",
      "14         0.1    {'C': 100, 'gamma': 0.1}           0.160000   \n",
      "15           1      {'C': 100, 'gamma': 1}           0.120000   \n",
      "\n",
      "    split1_test_score  split2_test_score  split3_test_score  mean_test_score  \\\n",
      "0            0.126667           0.126667           0.126667         0.125000   \n",
      "1            0.126667           0.126667           0.126667         0.125000   \n",
      "2            0.126667           0.126667           0.126667         0.125000   \n",
      "3            0.126667           0.126667           0.126667         0.125000   \n",
      "4            0.640000           0.606667           0.626667         0.610000   \n",
      "5            0.740000           0.786667           0.833333         0.791667   \n",
      "6            0.126667           0.160000           0.146667         0.140000   \n",
      "7            0.126667           0.126667           0.126667         0.125000   \n",
      "8            0.726667           0.766667           0.773333         0.751667   \n",
      "9            0.780000           0.806667           0.846667         0.815000   \n",
      "10           0.133333           0.180000           0.166667         0.160000   \n",
      "11           0.126667           0.126667           0.126667         0.125000   \n",
      "12           0.740000           0.780000           0.786667         0.765000   \n",
      "13           0.780000           0.806667           0.846667         0.815000   \n",
      "14           0.133333           0.180000           0.166667         0.160000   \n",
      "15           0.126667           0.126667           0.126667         0.125000   \n",
      "\n",
      "    std_test_score  rank_test_score  \n",
      "0         0.002887               10  \n",
      "1         0.002887               10  \n",
      "2         0.002887               10  \n",
      "3         0.002887               10  \n",
      "4         0.027689                6  \n",
      "5         0.034116                3  \n",
      "6         0.014142                9  \n",
      "7         0.002887               10  \n",
      "8         0.019076                5  \n",
      "9         0.024664                1  \n",
      "10        0.016997                7  \n",
      "11        0.002887               10  \n",
      "12        0.019076                4  \n",
      "13        0.024664                1  \n",
      "14        0.016997                7  \n",
      "15        0.002887               10  \n",
      "\n",
      "\n",
      "Best parameters set found:\n",
      "{'C': 10, 'gamma': 0.01}\n",
      "\n",
      "Score with best parameters:\n",
      "0.815\n",
      "\n",
      "Mean test scores on the grid (see the first table for more details):\n",
      "                        params  mean_test_score\n",
      "0   {'C': 0.1, 'gamma': 0.001}         0.125000\n",
      "1    {'C': 0.1, 'gamma': 0.01}         0.125000\n",
      "2     {'C': 0.1, 'gamma': 0.1}         0.125000\n",
      "3       {'C': 0.1, 'gamma': 1}         0.125000\n",
      "4     {'C': 1, 'gamma': 0.001}         0.610000\n",
      "5      {'C': 1, 'gamma': 0.01}         0.791667\n",
      "6       {'C': 1, 'gamma': 0.1}         0.140000\n",
      "7         {'C': 1, 'gamma': 1}         0.125000\n",
      "8    {'C': 10, 'gamma': 0.001}         0.751667\n",
      "9     {'C': 10, 'gamma': 0.01}         0.815000\n",
      "10     {'C': 10, 'gamma': 0.1}         0.160000\n",
      "11       {'C': 10, 'gamma': 1}         0.125000\n",
      "12  {'C': 100, 'gamma': 0.001}         0.765000\n",
      "13   {'C': 100, 'gamma': 0.01}         0.815000\n",
      "14    {'C': 100, 'gamma': 0.1}         0.160000\n",
      "15      {'C': 100, 'gamma': 1}         0.125000\n"
     ]
    }
   ],
   "source": [
    "# parameters for rbf SVM\n",
    "parameters = {'C': [0.1, 1, 10, 100],'gamma':[0.001, 0.01, 0.1,1]}\n",
    "\n",
    "#run SVM with rbf kernel\n",
    "rbfsvc = SVC(kernel=\"rbf\")\n",
    "gsearch = GridSearchCV(rbfsvc, parameters, cv=4)\n",
    "gsearch.fit(X_train,y_train)\n",
    "\n",
    "print ('RESULTS FOR rbf KERNEL')\n",
    "cvres = pd.DataFrame.from_dict(gsearch.cv_results_)\n",
    "print(cvres)\n",
    "\n",
    "print(\"\\n\\nBest parameters set found:\")\n",
    "print(gsearch.best_params_)\n",
    "\n",
    "print(\"\\nScore with best parameters:\")\n",
    "print(gsearch.best_score_)\n",
    "\n",
    "print(\"\\nMean test scores on the grid (see the first table for more details):\")\n",
    "print(cvres.loc[:,[\"params\",\"mean_test_score\"]])"
   ]
  },
  {
   "cell_type": "markdown",
   "metadata": {},
   "source": [
    "## QUESTION 1 (DONE)\n",
    "What do you observe when using linear, polynomial and RBF kernels on this dataset ? <br>\n",
    "**The linear score is about 0.74, the 2nd-degree polynomial score is about 0.78 while the higher degree plynomial have a lower score. So, increasing the polynomial degree does not lead to an higher score (as one would expect). However, the best kernel of the proposed ones is the rbf kernel, with a score of 0.815.**"
   ]
  },
  {
   "cell_type": "markdown",
   "metadata": {},
   "source": [
    "## DONE 5\n",
    "Report here the best SVM kernel and parameters"
   ]
  },
  {
   "cell_type": "code",
   "execution_count": 12,
   "metadata": {},
   "outputs": [
    {
     "name": "stdout",
     "output_type": "stream",
     "text": [
      "Best SVM training error: 0.000000\n",
      "Best SVM test error: 0.180750\n"
     ]
    }
   ],
   "source": [
    "# get training and test error for the best SVM model from CV\n",
    "best_param = {'C': 10, 'gamma': 0.01}\n",
    "best_SVM = SVC(kernel=\"rbf\", C=best_param['C'], gamma=best_param['gamma'])\n",
    "best_SVM.fit(X_train,y_train)\n",
    "\n",
    "# compute errors\n",
    "training_error = 1 - best_SVM.score(X_train,y_train)\n",
    "test_error = 1- best_SVM.score(X_test,y_test)\n",
    "\n",
    "print (\"Best SVM training error: %f\" % training_error)\n",
    "print (\"Best SVM test error: %f\" % test_error)"
   ]
  },
  {
   "cell_type": "markdown",
   "metadata": {},
   "source": [
    "## DONE 6\n",
    "\n",
    "Analyze how the gamma parameter (inversely proportional to standard deviation of Gaussian Kernel) impact the performances of the classifier"
   ]
  },
  {
   "cell_type": "code",
   "execution_count": 13,
   "metadata": {},
   "outputs": [
    {
     "name": "stdout",
     "output_type": "stream",
     "text": [
      "[1.e-05 1.e-04 1.e-03 1.e-02 1.e-01 1.e+00 1.e+01 1.e+02]\n"
     ]
    }
   ],
   "source": [
    "#Test with different values of gamma\n",
    "\n",
    "# Set gamma values\n",
    "gamma_values = np.logspace(-5,2,8)\n",
    "print(gamma_values)\n"
   ]
  },
  {
   "cell_type": "code",
   "execution_count": 14,
   "metadata": {},
   "outputs": [
    {
     "data": {
      "image/png": "[encoded data removed]",
      "text/plain": [
       "<Figure size 1080x360 with 2 Axes>"
      ]
     },
     "metadata": {
      "needs_background": "light"
     },
     "output_type": "display_data"
    }
   ],
   "source": [
    "# Try the SVM with the previously set values of gamma\n",
    "# use rbf kernel and C=1\n",
    "\n",
    "train_acc_list, test_acc_list = [], []\n",
    "\n",
    "\n",
    "# compute accuracies for every value of gamma\n",
    "for gam in gamma_values:\n",
    "    best_SVM = SVC(kernel=\"rbf\", C=1, gamma=gam)\n",
    "    best_SVM.fit(X_train,y_train)\n",
    "    \n",
    "    # append new values to the list\n",
    "    train_acc_list.append(best_SVM.score(X_train,y_train))\n",
    "    test_acc_list.append(best_SVM.score(X_test,y_test))\n",
    "\n",
    "\n",
    "# Plot\n",
    "fig, ax = plt.subplots(1,2, figsize=(15,5))\n",
    "\n",
    "ax[0].plot(gamma_values, train_acc_list)\n",
    "ax[0].set_xscale('log')\n",
    "ax[0].set_xlabel('gamma')\n",
    "ax[0].set_ylabel('Train accuracy')\n",
    "ax[0].grid(True)\n",
    "\n",
    "ax[1].plot(gamma_values, test_acc_list)\n",
    "ax[1].set_xscale('log')\n",
    "ax[1].set_xlabel('gamma')\n",
    "ax[1].set_ylabel('Test accuracy')\n",
    "ax[1].grid(True)\n",
    "\n",
    "\n",
    "plt.show()"
   ]
  },
  {
   "cell_type": "markdown",
   "metadata": {},
   "source": [
    "## QUESTION 2 (DONE)\n",
    "How do the train and test error change when changing gamma ? Which is the best value of gamma ? \n",
    "Connect your answers to the discussion about the overfitting issue. <br>\n",
    "**On one hand, when gamma is small the standard deviation of the RBF kernel is large and so the classifier has both a large training error (the distribution is too \"wide\" to fit properly the training data) and a large test error (that solution is not general). On the other hand, when gamma is large the standard deviation of the kernel is small and so the algorithm fits precisely the training data, but the model does not generalize well to the test data. From the plots shown above we can see that the train accuracy increases monotonically with the value of gamma, but the improvements are not significant for gammas greater than 0.01. The test accuracy is greater than 0.5 only for the values gamma=0.001 and gamma=0.01, so the model is effective only in such range. <br>\n",
    "At the end, the best value of gamma is 0.01 because it maximizes the test accuracy and has a train accuracy approximately of 1.**"
   ]
  },
  {
   "cell_type": "markdown",
   "metadata": {},
   "source": [
    "## More data\n",
    "Now let's do the same but using more data points for training.\n",
    "\n",
    "\n",
    "Choose a new number of data points."
   ]
  },
  {
   "cell_type": "code",
   "execution_count": 15,
   "metadata": {},
   "outputs": [
    {
     "name": "stdout",
     "output_type": "stream",
     "text": [
      "Labels in training dataset:  [0 1 2 3 4 5 6 7 8 9]\n",
      "Frequencies in training dataset:  [211 196 203 190 198 164 198 231 205 204]\n"
     ]
    }
   ],
   "source": [
    "X = X[permutation]\n",
    "y = y[permutation]\n",
    "\n",
    "m_training = 2000 # number of data points\n",
    "\n",
    "X_train, X_test = X[:m_training], X[m_training:]\n",
    "y_train, y_test = y[:m_training], y[m_training:]\n",
    "\n",
    "labels, freqs = np.unique(y_train, return_counts=True)\n",
    "print(\"Labels in training dataset: \", labels)\n",
    "print(\"Frequencies in training dataset: \", freqs)"
   ]
  },
  {
   "cell_type": "markdown",
   "metadata": {},
   "source": [
    "## DONE 7\n",
    "\n",
    "Let's try to use SVM with parameters obtained from the best model for $m_{training} =  2000$. Since it may take a long time to run, you can decide to just let it run for some time and stop it if it does not complete. If you decide to do this, report it in the cell below."
   ]
  },
  {
   "cell_type": "code",
   "execution_count": 16,
   "metadata": {
    "scrolled": true
   },
   "outputs": [
    {
     "name": "stdout",
     "output_type": "stream",
     "text": [
      "Best SVM training error: 0.000000\n",
      "Best SVM test error: 0.114897\n"
     ]
    }
   ],
   "source": [
    "# get training and test error for the best SVM model from CV\n",
    "best_param = {'C': 10, 'gamma': 0.01}\n",
    "best_SVM = SVC(kernel=\"rbf\", C=best_param['C'], gamma=best_param['gamma'])\n",
    "best_SVM.fit(X_train,y_train)\n",
    "\n",
    "# compute errors\n",
    "training_error = 1 - best_SVM.score(X_train,y_train)\n",
    "test_error = 1- best_SVM.score(X_test,y_test)\n",
    "\n",
    "print (\"Best SVM training error: %f\" % training_error)\n",
    "print (\"Best SVM test error: %f\" % test_error)"
   ]
  },
  {
   "cell_type": "markdown",
   "metadata": {},
   "source": [
    "Just for comparison, let's also use logistic regression \n",
    "\n",
    "## DONE 8 Try first without regularization (use a very large large C)¶"
   ]
  },
  {
   "cell_type": "code",
   "execution_count": 17,
   "metadata": {},
   "outputs": [
    {
     "name": "stdout",
     "output_type": "stream",
     "text": [
      "Best logistic regression training error: 0.000000\n",
      "Best logistic regression test error: 0.280069\n"
     ]
    }
   ],
   "source": [
    "from sklearn import linear_model\n",
    "\n",
    "LR = linear_model.LogisticRegression(C=1e5, max_iter=1e3)\n",
    "LR.fit(X_train,y_train)\n",
    "\n",
    "# compute errors\n",
    "training_error = 1 - LR.score(X_train,y_train)\n",
    "test_error = 1- LR.score(X_test,y_test)\n",
    "\n",
    "\n",
    "print (\"Best logistic regression training error: %f\" % training_error)\n",
    "print (\"Best logistic regression test error: %f\" % test_error)"
   ]
  },
  {
   "cell_type": "markdown",
   "metadata": {},
   "source": [
    "## DONE 9 Try  with regularization (use C=1)¶"
   ]
  },
  {
   "cell_type": "code",
   "execution_count": 18,
   "metadata": {},
   "outputs": [
    {
     "name": "stdout",
     "output_type": "stream",
     "text": [
      "Best regularized logistic regression training error: 0.001000\n",
      "Best regularized logistic regression test error: 0.253759\n"
     ]
    }
   ],
   "source": [
    "LRr = linear_model.LogisticRegression(C=1, max_iter=1e3)\n",
    "LRr.fit(X_train,y_train)\n",
    "\n",
    "# compute errors\n",
    "training_error = 1 - LRr.score(X_train,y_train)\n",
    "test_error = 1- LRr.score(X_test,y_test)\n",
    "\n",
    "print (\"Best regularized logistic regression training error: %f\" % training_error)\n",
    "print (\"Best regularized logistic regression test error: %f\" % test_error)"
   ]
  },
  {
   "cell_type": "markdown",
   "metadata": {},
   "source": [
    "## QUESTION 3 (DONE)\n",
    "Compare and discuss:\n",
    "- the results from SVM with m=600 and with m=2000 training data points. If you stopped the SVM, include such aspect in your comparison.\n",
    "- the results of SVM and of Logistic Regression\n",
    "\n",
    "**With m=600 the training error is 0.000 and the test error is 0.193. With m=2000 the training error is still 0.000 and the test error is 0.115. The training is successful in both cases (training error is exactly 0), while the test gives a lower error in the classifier trained with more samples (as one would expect).<br>\n",
    "The SVM with the best kernel and the best parameters has lower errors than the logistic regressions (regularized and not regularized). With a fixed number of training samples of 2000, the only training error different from 0 is the regularized-LR training error, with a value of 0.0010 (that is equivalent to only 2 misclassified training samples over 2000). The test error of the SVM is 0.115, while the non-regularized-LR test error is 0.280 and the regularized-LR test error is 0.254. But a positive feature of the LR classifier is the low computational time required by it (a few seconds on my computer with m=2000), while the SVM classifier with the same dataset requires several times more computational time (approximately a minute on my computer with m=2000). In conclusion, in order to have a more precise classification we have to spend more computational time.**"
   ]
  },
  {
   "cell_type": "markdown",
   "metadata": {},
   "source": [
    "## DONE 10\n",
    "Plot an item of clothing that is missclassified by logistic regression and correctly classified by SVM."
   ]
  },
  {
   "cell_type": "code",
   "execution_count": 19,
   "metadata": {},
   "outputs": [],
   "source": [
    "LR_prediction = LRr.predict(X_test)\n",
    "SVM_prediction = best_SVM.predict(X_test)"
   ]
  },
  {
   "cell_type": "code",
   "execution_count": 36,
   "metadata": {},
   "outputs": [
    {
     "name": "stdout",
     "output_type": "stream",
     "text": [
      "First 20 elements of the true labels and of the predictions:\n",
      "LR predictions =\t [6 0 8 1 8 2 7 5 0 5 7 3 4 5 6 5 4 9 4 5]\n",
      "SVM predictions =\t [6 0 8 1 8 1 7 2 0 5 7 3 4 5 6 5 4 9 9 5]\n",
      "True labels =\t\t [6 0 2 1 8 1 7 2 0 5 7 3 4 5 2 5 4 9 9 5]\n",
      "\n",
      "Taking the sample at index 5:\n",
      "Label predicted by LR: 2\n",
      "Label predicted by SVM: 1\n",
      "Real label: 1 \n",
      "\n",
      "\n",
      "Plot of the sample that creates confusion\n",
      "INPUT:\n"
     ]
    },
    {
     "data": {
      "image/png": "[encoded data removed]",
      "text/plain": [
       "<Figure size 432x288 with 1 Axes>"
      ]
     },
     "metadata": {
      "needs_background": "light"
     },
     "output_type": "display_data"
    },
    {
     "name": "stdout",
     "output_type": "stream",
     "text": [
      "LABEL: 1\n",
      "\n",
      "\n",
      "Plot of a sample that has really the label 2 (for comparison):\n",
      "INPUT:\n"
     ]
    },
    {
     "data": {
      "image/png": "[encoded data removed]",
      "text/plain": [
       "<Figure size 432x288 with 1 Axes>"
      ]
     },
     "metadata": {
      "needs_background": "light"
     },
     "output_type": "display_data"
    },
    {
     "name": "stdout",
     "output_type": "stream",
     "text": [
      "LABEL: 2\n"
     ]
    }
   ],
   "source": [
    "# show the first 20 elements of the predictions to compare\n",
    "print(\"First 20 elements of the true labels and of the predictions:\")\n",
    "print(\"LR predictions =\\t\", LR_prediction[:20])\n",
    "print(\"SVM predictions =\\t\", SVM_prediction[:20])\n",
    "print(\"True labels =\\t\\t\", y_test[:20])\n",
    "\n",
    "# find misclassified index\n",
    "mis_mask = list((SVM_prediction==y_test) & (LR_prediction!=y_test))\n",
    "mis_index = mis_mask.index(True)\n",
    "\n",
    "# plot the misclassified index of the linear regression\n",
    "print(\"\\nTaking the sample at index %i:\" % mis_index)\n",
    "print(\"Label predicted by LR: %i\" % LR_prediction[mis_index])\n",
    "print(\"Label predicted by SVM: %i\" % SVM_prediction[mis_index])\n",
    "print(\"Real label: %i \\n\" % y_test[mis_index])\n",
    "\n",
    "print(\"\\nPlot of the sample that creates confusion\")\n",
    "plot_input(X_test,y_test,mis_index)\n",
    "\n",
    "print(\"\\n\\nPlot of a sample that has really the label %i (for comparison):\" % LR_prediction[mis_index])\n",
    "plot_input(X_test,y_test,list(y_test).index(LR_prediction[mis_index]))"
   ]
  },
  {
   "cell_type": "markdown",
   "metadata": {},
   "source": [
    "## DONE 11\n",
    "Plot the confusion matrix for the SVM classifier and for logistic regression.\n",
    "The confusion matrix has one column for each predicted label and one row for each true label. \n",
    "It shows for each class in the corresponding row how many samples belonging to that class gets each possible output label.\n",
    "Notice that the diagonal contains the correctly classified samples, while the other cells correspond to errors.\n",
    "You can obtain it with the sklearn.metrics.confusion_matrix function (see the documentation).\n",
    "Try also to normalize the confusion matrix by the number of samples in each class in order to measure the accuracy on each single class.\n"
   ]
  },
  {
   "cell_type": "code",
   "execution_count": 39,
   "metadata": {},
   "outputs": [
    {
     "name": "stdout",
     "output_type": "stream",
     "text": [
      "Labels and frequencies in test set:  [5789 5804 5797 5810 5802 5836 5802 5769 5795 5796]\n",
      "\n",
      " Confusion matrix SVM  \n",
      " \n",
      " [[5442   12    5   26   81   41    6   91   53   32]\n",
      " [  22 5034  118   59  146    9  179    4  118  115]\n",
      " [   0  111 4789  185   58   11  359   21  210   53]\n",
      " [  14   67  113 5320   33   78   17   46  101   21]\n",
      " [ 210  106  159   62 4963    9   72   14   96  111]\n",
      " [  60   59  169  216   54 5105   52   17   93   11]\n",
      " [  25   85  315   65  179    6 4964   67   71   25]\n",
      " [  56   20   53   48  149   25   49 5213   94   62]\n",
      " [  51  109   57   88   11   34  115   10 5303   17]\n",
      " [  39  189  145   43   84   10   11   13   59 5203]]\n",
      "\n",
      " Confusion matrix SVM (normalized)   \n",
      " \n",
      " [[0.940 0.002 0.001 0.004 0.014 0.007 0.001 0.016 0.009 0.006]\n",
      " [0.004 0.867 0.020 0.010 0.025 0.002 0.031 0.001 0.020 0.020]\n",
      " [0.000 0.019 0.826 0.032 0.010 0.002 0.062 0.004 0.036 0.009]\n",
      " [0.002 0.012 0.019 0.916 0.006 0.013 0.003 0.008 0.017 0.004]\n",
      " [0.036 0.018 0.027 0.011 0.855 0.002 0.012 0.002 0.017 0.019]\n",
      " [0.010 0.010 0.029 0.037 0.009 0.875 0.009 0.003 0.016 0.002]\n",
      " [0.004 0.015 0.054 0.011 0.031 0.001 0.856 0.012 0.012 0.004]\n",
      " [0.010 0.003 0.009 0.008 0.026 0.004 0.008 0.904 0.016 0.011]\n",
      " [0.009 0.019 0.010 0.015 0.002 0.006 0.020 0.002 0.915 0.003]\n",
      " [0.007 0.033 0.025 0.007 0.014 0.002 0.002 0.002 0.010 0.898]]\n",
      "\n",
      "Plot confusion matrix for SVM\n"
     ]
    },
    {
     "data": {
      "image/png": "[encoded data removed]",
      "text/plain": [
       "<Figure size 432x288 with 1 Axes>"
      ]
     },
     "metadata": {
      "needs_background": "light"
     },
     "output_type": "display_data"
    },
    {
     "name": "stdout",
     "output_type": "stream",
     "text": [
      "\n",
      "\n",
      " Confusion matrix LR  \n",
      " \n",
      " [[5076   17   36   58  113  177   14  127   42  129]\n",
      " [  28 4213  313  110  272   81  322   25  219  221]\n",
      " [   9  317 3612  231  151  109  609   59  449  251]\n",
      " [  38  128  145 4430   84  388   60  173  290   74]\n",
      " [ 285  187  288  162 4128   51  157   82  110  352]\n",
      " [ 142  112  390  322   85 4406  125   59  150   45]\n",
      " [  25  243  463   98  243   75 4305  102  185   63]\n",
      " [ 128   42  187  112  234  154  132 4523   94  163]\n",
      " [ 127  294  344  203   64  163  225   21 4248  106]\n",
      " [ 116  350  384   55  229   55   61   86  119 4341]]\n",
      "\n",
      " Confusion matrix LR (normalized)   \n",
      " \n",
      " [[0.877 0.003 0.006 0.010 0.020 0.031 0.002 0.022 0.007 0.022]\n",
      " [0.005 0.726 0.054 0.019 0.047 0.014 0.055 0.004 0.038 0.038]\n",
      " [0.002 0.055 0.623 0.040 0.026 0.019 0.105 0.010 0.077 0.043]\n",
      " [0.007 0.022 0.025 0.762 0.014 0.067 0.010 0.030 0.050 0.013]\n",
      " [0.049 0.032 0.050 0.028 0.711 0.009 0.027 0.014 0.019 0.061]\n",
      " [0.024 0.019 0.067 0.055 0.015 0.755 0.021 0.010 0.026 0.008]\n",
      " [0.004 0.042 0.080 0.017 0.042 0.013 0.742 0.018 0.032 0.011]\n",
      " [0.022 0.007 0.032 0.019 0.041 0.027 0.023 0.784 0.016 0.028]\n",
      " [0.022 0.051 0.059 0.035 0.011 0.028 0.039 0.004 0.733 0.018]\n",
      " [0.020 0.060 0.066 0.009 0.040 0.009 0.011 0.015 0.021 0.749]]\n",
      "\n",
      "Plot confusion matrix for LR\n"
     ]
    },
    {
     "data": {
      "image/png": "[encoded data removed]",
      "text/plain": [
       "<Figure size 432x288 with 1 Axes>"
      ]
     },
     "metadata": {
      "needs_background": "light"
     },
     "output_type": "display_data"
    }
   ],
   "source": [
    "np.set_printoptions(precision=3, suppress=True, floatmode=\"fixed\")\n",
    "\n",
    "u, counts = np.unique(y_test, return_counts=True)\n",
    "print(\"Labels and frequencies in test set: \", counts)\n",
    "\n",
    "# print confusion matrix for SVM classifier\n",
    "confusion_SVM = sklearn.metrics.confusion_matrix(y_test,SVM_prediction)\n",
    "print(\"\\n Confusion matrix SVM  \\n \\n\", confusion_SVM)\n",
    "print(\"\\n Confusion matrix SVM (normalized)   \\n \\n\", confusion_SVM /counts[:,None])\n",
    "print(\"\\nPlot confusion matrix for SVM\")\n",
    "plt.imshow(confusion_SVM /counts[:,None], norm=colors.LogNorm(), cmap=\"gray_r\")\n",
    "plt.show()\n",
    "\n",
    "# print confusion matrix for LR classifier\n",
    "confusion_LR = sklearn.metrics.confusion_matrix(y_test,LR_prediction)\n",
    "print(\"\\n\\n Confusion matrix LR  \\n \\n\", confusion_LR)\n",
    "print(\"\\n Confusion matrix LR (normalized)   \\n \\n\", confusion_LR /counts[:,None])\n",
    "print(\"\\nPlot confusion matrix for LR\")\n",
    "plt.imshow(confusion_LR /counts[:,None], norm=colors.LogNorm(), cmap=\"gray_r\")\n",
    "plt.show()"
   ]
  },
  {
   "cell_type": "markdown",
   "metadata": {},
   "source": [
    "## QUESTION 4 (DONE)\n",
    "Have a look at the confusion matrices and comment on the obtained accuracies. Why some classes have lower accuracies and others an higher one ? Make some guesses on the possible causes. <br>\n",
    "\n",
    "**The next considerations are based on the confusion matrix of the SVM classifier. In the heatmap plotted above it is possible to see some white pixels corresponding to an high percentage of samples correctly classified, while the darker pixels corresponds to a lower percentage of samples correctly classified. To search for explanations I have added some code cells below to show the two extreme examples of figures wrongly classified (the least misclassified and the most misclassified ones).<br>\n",
    "From the comparison it is possible to see that the images that are likely to be confused have the same number of \"horizontal stripes\" that are completely white. For example, the images corresponding to label 2 and label 6 have at least a black pixel on the first row and similarly they have at least a black pixel on the last row. While the image corresponding to label 0 has the first few rows and the last few rows that are completely white. This effect that I found comparing the most misclassified and the least misclassified samples is also true for less \"extreme\" cases. For example, labels = [0 vs 2 (minimum_misclassified = 0) ; 1 vs 7 (minimum_misclassified = 4) ; 0 vs 6 (minimum_misclassified = 6) ; 1 vs 5 (minimum_misclassified = 9)] shows this effect (I prepared the third cell below this cell text to see easily such difference). They are unlikely to be misclassified because their first few and last few rows are very different. For the opposite example, labels = [2 vs 6 (maximum_misclassified = 359) ; 3 vs 5 (maximum_misclassified = 216) ; 2 vs 8 (maximum_misclassified = 210) ; 0 vs 4 (maximum_misclassified = 210)] have similar first few rows and last few rows and are also easily misclassified.<br>\n",
    "I suppose this is caused by the RBF kernel and by the fact that the pixels are stored as a single row in the original \"X_test\" matrix of test samples. If the first few rows of the picure are completely white, the corresponding one-line vector has the first 40/50 pixels white and similarly for the last 40/50 pixels of that vector. The SVM classifier used with the RBF kernel is very good at discriminating these completely white regions from the regions in which white and black pixels coexists and so the classification is more successful when the first and last few rows are different.**"
   ]
  },
  {
   "cell_type": "code",
   "execution_count": 22,
   "metadata": {},
   "outputs": [
    {
     "name": "stdout",
     "output_type": "stream",
     "text": [
      "Labels of the two least misclassified samples:  (2, 0)\n",
      "INPUT:\n"
     ]
    },
    {
     "data": {
      "image/png": "[encoded data removed]",
      "text/plain": [
       "<Figure size 432x288 with 1 Axes>"
      ]
     },
     "metadata": {
      "needs_background": "light"
     },
     "output_type": "display_data"
    },
    {
     "name": "stdout",
     "output_type": "stream",
     "text": [
      "LABEL: 2\n",
      "INPUT:\n"
     ]
    },
    {
     "data": {
      "image/png": "[encoded data removed]",
      "text/plain": [
       "<Figure size 432x288 with 1 Axes>"
      ]
     },
     "metadata": {
      "needs_background": "light"
     },
     "output_type": "display_data"
    },
    {
     "name": "stdout",
     "output_type": "stream",
     "text": [
      "LABEL: 0\n"
     ]
    }
   ],
   "source": [
    "# show the difference between the two least misclassified labels\n",
    "y1, y2 = np.unravel_index(np.argmin(confusion_SVM, axis=None), confusion_SVM.shape)\n",
    "print(\"Labels of the two least misclassified samples: \", (y1,y2))\n",
    "\n",
    "plot_input(X_test,y_test,list(y_test).index(y1))\n",
    "plot_input(X_test,y_test,list(y_test).index(y2))"
   ]
  },
  {
   "cell_type": "code",
   "execution_count": 23,
   "metadata": {},
   "outputs": [
    {
     "name": "stdout",
     "output_type": "stream",
     "text": [
      "Labels of the two most misclassified samples:  (2, 6)\n",
      "INPUT:\n"
     ]
    },
    {
     "data": {
      "image/png": "[encoded data removed]",
      "text/plain": [
       "<Figure size 432x288 with 1 Axes>"
      ]
     },
     "metadata": {
      "needs_background": "light"
     },
     "output_type": "display_data"
    },
    {
     "name": "stdout",
     "output_type": "stream",
     "text": [
      "LABEL: 2\n",
      "INPUT:\n"
     ]
    },
    {
     "data": {
      "image/png": "[encoded data removed]",
      "text/plain": [
       "<Figure size 432x288 with 1 Axes>"
      ]
     },
     "metadata": {
      "needs_background": "light"
     },
     "output_type": "display_data"
    },
    {
     "name": "stdout",
     "output_type": "stream",
     "text": [
      "LABEL: 6\n"
     ]
    }
   ],
   "source": [
    "# show the difference between the two most misclassified labels\n",
    "#\n",
    "# I found the maximum value over a matrix with the diagonal entries that are below zero and so they\n",
    "# are not chosen by the maximum algorithm\n",
    "y1, y2 = np.unravel_index(np.argmax((confusion_SVM /counts[:,None]) - np.identity(10), axis=None), confusion_SVM.shape)\n",
    "print(\"Labels of the two most misclassified samples: \", (y1,y2))\n",
    "\n",
    "plot_input(X_test,y_test,list(y_test).index(y1))\n",
    "plot_input(X_test,y_test,list(y_test).index(y2))"
   ]
  },
  {
   "cell_type": "code",
   "execution_count": 24,
   "metadata": {},
   "outputs": [
    {
     "name": "stdout",
     "output_type": "stream",
     "text": [
      "INPUT:\n"
     ]
    },
    {
     "data": {
      "image/png": "[encoded data removed]",
      "text/plain": [
       "<Figure size 432x288 with 1 Axes>"
      ]
     },
     "metadata": {
      "needs_background": "light"
     },
     "output_type": "display_data"
    },
    {
     "name": "stdout",
     "output_type": "stream",
     "text": [
      "LABEL: 0\n",
      "INPUT:\n"
     ]
    },
    {
     "data": {
      "image/png": "[encoded data removed]",
      "text/plain": [
       "<Figure size 432x288 with 1 Axes>"
      ]
     },
     "metadata": {
      "needs_background": "light"
     },
     "output_type": "display_data"
    },
    {
     "name": "stdout",
     "output_type": "stream",
     "text": [
      "LABEL: 4\n",
      "\n",
      "Misclassified samples for the labels (0, 4) = 81, 210\n"
     ]
    }
   ],
   "source": [
    "# use this cell to see easily the different labels\n",
    "\n",
    "y1, y2 = 0,4\n",
    "plot_input(X_test,y_test,list(y_test).index(y1))\n",
    "plot_input(X_test,y_test,list(y_test).index(y2))\n",
    "\n",
    "print(\"\\nMisclassified samples for the labels (%i, %i) = %i, %i\" %\\\n",
    "      (y1,y2,confusion_SVM[y1,y2], confusion_SVM[y2,y1]))\n"
   ]
  }
 ],
 "metadata": {
  "kernelspec": {
   "display_name": "Python 3 (ipykernel)",
   "language": "python",
   "name": "python3"
  },
  "language_info": {
   "codemirror_mode": {
    "name": "ipython",
    "version": 3
   },
   "file_extension": ".py",
   "mimetype": "text/x-python",
   "name": "python",
   "nbconvert_exporter": "python",
   "pygments_lexer": "ipython3",
   "version": "3.9.7"
  }
 },
 "nbformat": 4,
 "nbformat_minor": 4
}
