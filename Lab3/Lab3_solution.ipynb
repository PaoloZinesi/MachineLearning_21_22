{
 "cells": [
  {
   "cell_type": "markdown",
   "metadata": {},
   "source": [
    "# Characters Classification with Neural Networks\n",
    "\n",
    "In this notebook we are going to use the Neural Networks for image classification. We are going to use the same dataset of the lab on SVM: Kuzushiji-MNIST or K-MNIST for short (https://github.com/rois-codh/kmnist) a dataset of traditional japanese handwritten kana.\n",
    "\n",
    "The dataset labels are the following:\n",
    "\n",
    "| Label | Hiragana Character | Romanji (Pronunciation) |\n",
    "| :-: | :-: | :-: |\n",
    "|   0   | お | o |\n",
    "| 1 | き | ki |\n",
    "| 2 | す | su |\n",
    "| 3 | つ | tsu |\n",
    "| 4 | な | na |\n",
    "| 5 | は | ha |\n",
    "| 6 | ま | ma |\n",
    "| 7 | や | ya |\n",
    "| 8 | れ | re |\n",
    "| 9 | を | wo |"
   ]
  },
  {
   "cell_type": "code",
   "execution_count": 1,
   "metadata": {},
   "outputs": [
    {
     "name": "stdout",
     "output_type": "stream",
     "text": [
      "scikit-learn version:  1.0.1\n"
     ]
    }
   ],
   "source": [
    "#load the required packages and check Scikit-learn version\n",
    "\n",
    "%matplotlib inline  \n",
    "\n",
    "import numpy as np\n",
    "import scipy as sp\n",
    "import matplotlib.pyplot as plt\n",
    "import pandas as pd\n",
    "\n",
    "import sklearn\n",
    "print ('scikit-learn version: ', sklearn.__version__)\n",
    "from sklearn.neural_network import MLPClassifier\n",
    "from sklearn.model_selection import GridSearchCV\n",
    "from sklearn.svm import SVC"
   ]
  },
  {
   "cell_type": "code",
   "execution_count": 2,
   "metadata": {},
   "outputs": [],
   "source": [
    "# helper function to load KMNIST dataset from disk\n",
    "def load_mnist(path, kind='train'):\n",
    "    import os\n",
    "    import gzip\n",
    "    import numpy as np\n",
    "    labels_path = os.path.join(path, 'K%s-labels-idx1-ubyte.gz' % kind)\n",
    "    images_path = os.path.join(path, 'K%s-images-idx3-ubyte.gz' % kind)\n",
    "    with gzip.open(labels_path, 'rb') as lbpath:\n",
    "        labels = np.frombuffer(lbpath.read(), dtype=np.uint8,offset=8)\n",
    "    with gzip.open(images_path, 'rb') as imgpath:\n",
    "        images = np.frombuffer(imgpath.read(), dtype=np.uint8,offset=16).reshape(len(labels), 784)\n",
    "    return images, labels"
   ]
  },
  {
   "cell_type": "markdown",
   "metadata": {},
   "source": [
    "# DONE\n",
    "Set as seed for the random generator your Student ID (you can use your \"numero di matricola\"). Try to change the seed to see the impact of the randomization."
   ]
  },
  {
   "cell_type": "code",
   "execution_count": 3,
   "metadata": {},
   "outputs": [],
   "source": [
    "ID = 2053062\n",
    "np.random.seed(ID)"
   ]
  },
  {
   "cell_type": "code",
   "execution_count": 4,
   "metadata": {},
   "outputs": [
    {
     "name": "stdout",
     "output_type": "stream",
     "text": [
      "Number of samples in the K-MNIST dataset: 60000\n"
     ]
    }
   ],
   "source": [
    "#load the MNIST dataset and let's normalize the features so that each value is in [0,1]\n",
    "X, y = load_mnist(\"data\")\n",
    "print(\"Number of samples in the K-MNIST dataset:\", X.shape[0])\n",
    "# rescale the data\n",
    "X = X / 255.0"
   ]
  },
  {
   "cell_type": "markdown",
   "metadata": {},
   "source": [
    "Now split into training and test. We start with a small training set of 600 samples to reduce computation time while 4000 samples will be used for testing. Make sure that each label is present at least 10 times in train and test set frequencies."
   ]
  },
  {
   "cell_type": "code",
   "execution_count": 5,
   "metadata": {},
   "outputs": [
    {
     "name": "stdout",
     "output_type": "stream",
     "text": [
      "Labels in training dataset:  [0 1 2 3 4 5 6 7 8 9]\n",
      "Frequencies in training dataset:  [61 61 63 52 59 65 45 75 54 65]\n",
      "Labels in test set:  [0 1 2 3 4 5 6 7 8 9]\n",
      "Frequencies in test set:  [61 61 63 52 59 65 45 75 54 65]\n"
     ]
    }
   ],
   "source": [
    "#random permute the data and split into training and test taking the first 600\n",
    "#data samples as training and 4000 as test set\n",
    "permutation = np.random.permutation(X.shape[0])\n",
    "\n",
    "X = X[permutation]\n",
    "y = y[permutation]\n",
    "\n",
    "m_training = 600\n",
    "m_test = 4000\n",
    "\n",
    "X_train, X_test = X[:m_training], X[m_training:m_training+m_test]\n",
    "y_train, y_test = y[:m_training], y[m_training:m_training+m_test]\n",
    "\n",
    "labels, freqs = np.unique(y_train, return_counts=True)\n",
    "print(\"Labels in training dataset: \", labels)\n",
    "print(\"Frequencies in training dataset: \", freqs)\n",
    "\n",
    "labelsT, freqsT = np.unique(y_test, return_counts=True)\n",
    "print(\"Labels in test set: \", labels)\n",
    "print(\"Frequencies in test set: \", freqs)\n"
   ]
  },
  {
   "cell_type": "code",
   "execution_count": 6,
   "metadata": {},
   "outputs": [],
   "source": [
    "#function for plotting a image and printing the corresponding label\n",
    "def plot_input(X_matrix, labels, index):\n",
    "    print(\"INPUT:\")\n",
    "    plt.imshow(\n",
    "        X_matrix[index].reshape(28,28),\n",
    "        cmap          = plt.cm.gray_r,\n",
    "        interpolation = \"nearest\"\n",
    "    )\n",
    "    plt.show()\n",
    "    print(\"LABEL: %i\"%labels[index])\n",
    "    return"
   ]
  },
  {
   "cell_type": "code",
   "execution_count": 7,
   "metadata": {},
   "outputs": [
    {
     "name": "stdout",
     "output_type": "stream",
     "text": [
      "INPUT:\n"
     ]
    },
    {
     "data": {
      "image/png": "[encoded data removed]",
      "text/plain": [
       "<Figure size 432x288 with 1 Axes>"
      ]
     },
     "metadata": {
      "needs_background": "light"
     },
     "output_type": "display_data"
    },
    {
     "name": "stdout",
     "output_type": "stream",
     "text": [
      "LABEL: 8\n",
      "INPUT:\n"
     ]
    },
    {
     "data": {
      "image/png": "[encoded data removed]",
      "text/plain": [
       "<Figure size 432x288 with 1 Axes>"
      ]
     },
     "metadata": {
      "needs_background": "light"
     },
     "output_type": "display_data"
    },
    {
     "name": "stdout",
     "output_type": "stream",
     "text": [
      "LABEL: 9\n",
      "INPUT:\n"
     ]
    },
    {
     "data": {
      "image/png": "[encoded data removed]",
      "text/plain": [
       "<Figure size 432x288 with 1 Axes>"
      ]
     },
     "metadata": {
      "needs_background": "light"
     },
     "output_type": "display_data"
    },
    {
     "name": "stdout",
     "output_type": "stream",
     "text": [
      "LABEL: 4\n"
     ]
    }
   ],
   "source": [
    "#let's try the plotting function\n",
    "plot_input(X_train,y_train,10)\n",
    "plot_input(X_test,y_test,100)\n",
    "plot_input(X_test,y_test,1000)"
   ]
  },
  {
   "cell_type": "markdown",
   "metadata": {},
   "source": [
    "### DONE 1\n",
    "\n",
    "Now use a feed-forward Neural Network for prediction. Use the multi-layer perceptron classifier, with the following parameters: max_iter=100, alpha=1e-4, solver='sgd', tol=1e-4, learning_rate_init=.1, random_state=ID (this last parameter ensures the run is the same even if you run it more than once). The alpha parameter is the regularization term.\n",
    "\n",
    "Then, using the default activation function, pick four or five architectures to consider, with different numbers of hidden layers and different sizes. It is not necessary to create huge neural networks, you can limit to 3 layers and, for each layer, its maximum size can be of 50. Evaluate the architectures you chose using GridSearchCV with cv=5.\n",
    "\n",
    "You can reduce the number of iterations if the running time is too long on your computer.\n"
   ]
  },
  {
   "cell_type": "code",
   "execution_count": 8,
   "metadata": {},
   "outputs": [
    {
     "name": "stdout",
     "output_type": "stream",
     "text": [
      "RESULTS FOR NN\n",
      "   mean_fit_time  std_fit_time  mean_score_time  std_score_time  \\\n",
      "0       0.186641      0.017793         0.000492        0.000027   \n",
      "1       0.199832      0.022865         0.000632        0.000205   \n",
      "2       0.246907      0.012883         0.000671        0.000163   \n",
      "3       0.245098      0.006388         0.000691        0.000093   \n",
      "4       0.140779      0.006254         0.000524        0.000011   \n",
      "5       0.201584      0.025806         0.000726        0.000108   \n",
      "6       0.286694      0.042659         0.000703        0.000088   \n",
      "\n",
      "  param_hidden_layer_sizes                                params  \\\n",
      "0                    (10,)         {'hidden_layer_sizes': (10,)}   \n",
      "1                    (20,)         {'hidden_layer_sizes': (20,)}   \n",
      "2                    (40,)         {'hidden_layer_sizes': (40,)}   \n",
      "3                    (50,)         {'hidden_layer_sizes': (50,)}   \n",
      "4                 (20, 20)      {'hidden_layer_sizes': (20, 20)}   \n",
      "5                 (50, 50)      {'hidden_layer_sizes': (50, 50)}   \n",
      "6             (40, 20, 10)  {'hidden_layer_sizes': (40, 20, 10)}   \n",
      "\n",
      "   split0_test_score  split1_test_score  split2_test_score  split3_test_score  \\\n",
      "0           0.716667           0.708333           0.716667           0.750000   \n",
      "1           0.750000           0.783333           0.650000           0.733333   \n",
      "2           0.783333           0.741667           0.733333           0.766667   \n",
      "3           0.783333           0.758333           0.725000           0.791667   \n",
      "4           0.716667           0.758333           0.691667           0.750000   \n",
      "5           0.733333           0.783333           0.683333           0.741667   \n",
      "6           0.658333           0.716667           0.650000           0.783333   \n",
      "\n",
      "   split4_test_score  mean_test_score  std_test_score  rank_test_score  \n",
      "0           0.716667         0.721667        0.014530                6  \n",
      "1           0.725000         0.728333        0.043970                5  \n",
      "2           0.733333         0.751667        0.020000                2  \n",
      "3           0.750000         0.761667        0.023921                1  \n",
      "4           0.725000         0.728333        0.023921                4  \n",
      "5           0.741667         0.736667        0.031885                3  \n",
      "6           0.716667         0.705000        0.048189                7  \n",
      "\n",
      "Best parameters set found:\n"
     ]
    },
    {
     "data": {
      "text/plain": [
       "{'hidden_layer_sizes': (50,)}"
      ]
     },
     "metadata": {},
     "output_type": "display_data"
    },
    {
     "name": "stdout",
     "output_type": "stream",
     "text": [
      "\n",
      "Score with best parameters:\n"
     ]
    },
    {
     "data": {
      "text/plain": [
       "0.7616666666666666"
      ]
     },
     "metadata": {},
     "output_type": "display_data"
    },
    {
     "name": "stdout",
     "output_type": "stream",
     "text": [
      "\n",
      "All scores on the grid:\n"
     ]
    },
    {
     "data": {
      "text/html": [
       "<div>\n",
       "<style scoped>\n",
       "    .dataframe tbody tr th:only-of-type {\n",
       "        vertical-align: middle;\n",
       "    }\n",
       "\n",
       "    .dataframe tbody tr th {\n",
       "        vertical-align: top;\n",
       "    }\n",
       "\n",
       "    .dataframe thead th {\n",
       "        text-align: right;\n",
       "    }\n",
       "</style>\n",
       "<table border=\"1\" class=\"dataframe\">\n",
       "  <thead>\n",
       "    <tr style=\"text-align: right;\">\n",
       "      <th></th>\n",
       "      <th>params</th>\n",
       "      <th>mean_test_score</th>\n",
       "    </tr>\n",
       "  </thead>\n",
       "  <tbody>\n",
       "    <tr>\n",
       "      <th>0</th>\n",
       "      <td>{'hidden_layer_sizes': (10,)}</td>\n",
       "      <td>0.721667</td>\n",
       "    </tr>\n",
       "    <tr>\n",
       "      <th>1</th>\n",
       "      <td>{'hidden_layer_sizes': (20,)}</td>\n",
       "      <td>0.728333</td>\n",
       "    </tr>\n",
       "    <tr>\n",
       "      <th>2</th>\n",
       "      <td>{'hidden_layer_sizes': (40,)}</td>\n",
       "      <td>0.751667</td>\n",
       "    </tr>\n",
       "    <tr>\n",
       "      <th>3</th>\n",
       "      <td>{'hidden_layer_sizes': (50,)}</td>\n",
       "      <td>0.761667</td>\n",
       "    </tr>\n",
       "    <tr>\n",
       "      <th>4</th>\n",
       "      <td>{'hidden_layer_sizes': (20, 20)}</td>\n",
       "      <td>0.728333</td>\n",
       "    </tr>\n",
       "    <tr>\n",
       "      <th>5</th>\n",
       "      <td>{'hidden_layer_sizes': (50, 50)}</td>\n",
       "      <td>0.736667</td>\n",
       "    </tr>\n",
       "    <tr>\n",
       "      <th>6</th>\n",
       "      <td>{'hidden_layer_sizes': (40, 20, 10)}</td>\n",
       "      <td>0.705000</td>\n",
       "    </tr>\n",
       "  </tbody>\n",
       "</table>\n",
       "</div>"
      ],
      "text/plain": [
       "                                 params  mean_test_score\n",
       "0         {'hidden_layer_sizes': (10,)}         0.721667\n",
       "1         {'hidden_layer_sizes': (20,)}         0.728333\n",
       "2         {'hidden_layer_sizes': (40,)}         0.751667\n",
       "3         {'hidden_layer_sizes': (50,)}         0.761667\n",
       "4      {'hidden_layer_sizes': (20, 20)}         0.728333\n",
       "5      {'hidden_layer_sizes': (50, 50)}         0.736667\n",
       "6  {'hidden_layer_sizes': (40, 20, 10)}         0.705000"
      ]
     },
     "metadata": {},
     "output_type": "display_data"
    }
   ],
   "source": [
    "# these are sample values but feel free to change them as you like, try to experiment with different sizes!!\n",
    "parameters = {'hidden_layer_sizes': [(10,), (20,), (40,), (50,), (20,20,), (50,50,), (40,20,10) ]}\n",
    "\n",
    "mlp = MLPClassifier(max_iter=100, alpha=1e-4, solver='sgd',\n",
    "                    tol=1e-4, random_state=ID,\n",
    "                    learning_rate_init=.1)\n",
    "\n",
    "gsearch = GridSearchCV(mlp, parameters, cv=5)\n",
    "gsearch.fit(X_train,y_train)\n",
    "\n",
    "print ('RESULTS FOR NN')\n",
    "cvres = pd.DataFrame.from_dict(gsearch.cv_results_)\n",
    "print(cvres)\n",
    "\n",
    "print(\"\\nBest parameters set found:\")\n",
    "display(gsearch.best_params_)\n",
    "\n",
    "print(\"\\nScore with best parameters:\")\n",
    "display(gsearch.best_score_)\n",
    "\n",
    "print(\"\\nAll scores on the grid:\")\n",
    "display(cvres.loc[:,[\"params\",\"mean_test_score\"]])"
   ]
  },
  {
   "cell_type": "markdown",
   "metadata": {},
   "source": [
    "### DONE 2\n",
    "\n",
    "Now try also different batch sizes, while keeping the best NN architecture you have found above. Remember that the batch size was previously set to the default value, i.e., min(200, n_samples). \n",
    "Recall that a batch size of 1 corresponds to baseline SGD, while using all the 480 training samples (there are 600 samples but in cross validation with 5 folders we use 1/5 of them for validation at each round) corresponds to standard GD and using a different mini-batch size lies in the middle between the two extreme cases."
   ]
  },
  {
   "cell_type": "code",
   "execution_count": 9,
   "metadata": {},
   "outputs": [
    {
     "name": "stderr",
     "output_type": "stream",
     "text": [
      "/Users/paolozinesi/anaconda3/lib/python3.9/site-packages/sklearn/neural_network/_multilayer_perceptron.py:692: ConvergenceWarning: Stochastic Optimizer: Maximum iterations (100) reached and the optimization hasn't converged yet.\n",
      "  warnings.warn(\n",
      "/Users/paolozinesi/anaconda3/lib/python3.9/site-packages/sklearn/neural_network/_multilayer_perceptron.py:692: ConvergenceWarning: Stochastic Optimizer: Maximum iterations (100) reached and the optimization hasn't converged yet.\n",
      "  warnings.warn(\n",
      "/Users/paolozinesi/anaconda3/lib/python3.9/site-packages/sklearn/neural_network/_multilayer_perceptron.py:692: ConvergenceWarning: Stochastic Optimizer: Maximum iterations (100) reached and the optimization hasn't converged yet.\n",
      "  warnings.warn(\n",
      "/Users/paolozinesi/anaconda3/lib/python3.9/site-packages/sklearn/neural_network/_multilayer_perceptron.py:692: ConvergenceWarning: Stochastic Optimizer: Maximum iterations (100) reached and the optimization hasn't converged yet.\n",
      "  warnings.warn(\n",
      "/Users/paolozinesi/anaconda3/lib/python3.9/site-packages/sklearn/neural_network/_multilayer_perceptron.py:692: ConvergenceWarning: Stochastic Optimizer: Maximum iterations (100) reached and the optimization hasn't converged yet.\n",
      "  warnings.warn(\n"
     ]
    },
    {
     "name": "stdout",
     "output_type": "stream",
     "text": [
      "RESULTS FOR NN\n",
      "\n",
      "   mean_fit_time  std_fit_time  mean_score_time  std_score_time  \\\n",
      "0      15.088304      1.820565         0.000687        0.000067   \n",
      "1       0.656017      0.220891         0.000760        0.000122   \n",
      "2       0.513534      0.307134         0.000752        0.000146   \n",
      "3       0.345061      0.021472         0.000933        0.000348   \n",
      "4       0.275818      0.023200         0.000665        0.000101   \n",
      "5       0.237681      0.006247         0.000598        0.000003   \n",
      "6       0.286353      0.014289         0.000970        0.000148   \n",
      "\n",
      "  param_batch_size               params  split0_test_score  split1_test_score  \\\n",
      "0                1    {'batch_size': 1}           0.141667           0.091667   \n",
      "1                8    {'batch_size': 8}           0.433333           0.325000   \n",
      "2               16   {'batch_size': 16}           0.716667           0.700000   \n",
      "3               32   {'batch_size': 32}           0.750000           0.808333   \n",
      "4               60   {'batch_size': 60}           0.775000           0.783333   \n",
      "5              120  {'batch_size': 120}           0.775000           0.783333   \n",
      "6              480  {'batch_size': 480}           0.783333           0.775000   \n",
      "\n",
      "   split2_test_score  split3_test_score  split4_test_score  mean_test_score  \\\n",
      "0           0.125000           0.141667           0.116667         0.123333   \n",
      "1           0.266667           0.425000           0.533333         0.396667   \n",
      "2           0.658333           0.683333           0.750000         0.701667   \n",
      "3           0.716667           0.775000           0.750000         0.760000   \n",
      "4           0.716667           0.791667           0.775000         0.768333   \n",
      "5           0.716667           0.791667           0.750000         0.763333   \n",
      "6           0.708333           0.775000           0.758333         0.760000   \n",
      "\n",
      "   std_test_score  rank_test_score  \n",
      "0        0.018559                7  \n",
      "1        0.092586                6  \n",
      "2        0.030912                5  \n",
      "3        0.030459                3  \n",
      "4        0.026562                1  \n",
      "5        0.027183                2  \n",
      "6        0.027080                3  \n",
      "Best parameters set found:\n"
     ]
    },
    {
     "data": {
      "text/plain": [
       "{'batch_size': 60}"
      ]
     },
     "metadata": {},
     "output_type": "display_data"
    },
    {
     "name": "stdout",
     "output_type": "stream",
     "text": [
      "Score with best parameters:\n"
     ]
    },
    {
     "data": {
      "text/plain": [
       "0.7683333333333333"
      ]
     },
     "metadata": {},
     "output_type": "display_data"
    },
    {
     "name": "stdout",
     "output_type": "stream",
     "text": [
      "\n",
      "All scores on the grid:\n"
     ]
    },
    {
     "data": {
      "text/html": [
       "<div>\n",
       "<style scoped>\n",
       "    .dataframe tbody tr th:only-of-type {\n",
       "        vertical-align: middle;\n",
       "    }\n",
       "\n",
       "    .dataframe tbody tr th {\n",
       "        vertical-align: top;\n",
       "    }\n",
       "\n",
       "    .dataframe thead th {\n",
       "        text-align: right;\n",
       "    }\n",
       "</style>\n",
       "<table border=\"1\" class=\"dataframe\">\n",
       "  <thead>\n",
       "    <tr style=\"text-align: right;\">\n",
       "      <th></th>\n",
       "      <th>params</th>\n",
       "      <th>mean_test_score</th>\n",
       "    </tr>\n",
       "  </thead>\n",
       "  <tbody>\n",
       "    <tr>\n",
       "      <th>0</th>\n",
       "      <td>{'batch_size': 1}</td>\n",
       "      <td>0.123333</td>\n",
       "    </tr>\n",
       "    <tr>\n",
       "      <th>1</th>\n",
       "      <td>{'batch_size': 8}</td>\n",
       "      <td>0.396667</td>\n",
       "    </tr>\n",
       "    <tr>\n",
       "      <th>2</th>\n",
       "      <td>{'batch_size': 16}</td>\n",
       "      <td>0.701667</td>\n",
       "    </tr>\n",
       "    <tr>\n",
       "      <th>3</th>\n",
       "      <td>{'batch_size': 32}</td>\n",
       "      <td>0.760000</td>\n",
       "    </tr>\n",
       "    <tr>\n",
       "      <th>4</th>\n",
       "      <td>{'batch_size': 60}</td>\n",
       "      <td>0.768333</td>\n",
       "    </tr>\n",
       "    <tr>\n",
       "      <th>5</th>\n",
       "      <td>{'batch_size': 120}</td>\n",
       "      <td>0.763333</td>\n",
       "    </tr>\n",
       "    <tr>\n",
       "      <th>6</th>\n",
       "      <td>{'batch_size': 480}</td>\n",
       "      <td>0.760000</td>\n",
       "    </tr>\n",
       "  </tbody>\n",
       "</table>\n",
       "</div>"
      ],
      "text/plain": [
       "                params  mean_test_score\n",
       "0    {'batch_size': 1}         0.123333\n",
       "1    {'batch_size': 8}         0.396667\n",
       "2   {'batch_size': 16}         0.701667\n",
       "3   {'batch_size': 32}         0.760000\n",
       "4   {'batch_size': 60}         0.768333\n",
       "5  {'batch_size': 120}         0.763333\n",
       "6  {'batch_size': 480}         0.760000"
      ]
     },
     "metadata": {},
     "output_type": "display_data"
    }
   ],
   "source": [
    "# these are sample values corresponding to baseline SGD, a reasonable mini-batch size and standard GD\n",
    "# again feel free to change them as you like, try to experiment with different batch sizes!!\n",
    "parameters = {'batch_size': [1, 8, 16, 32, 60, 120, 480]}\n",
    "\n",
    "# need to specify that you would like to use the standard k-fold split otherwise sklearn create splits of different sizes\n",
    "kf = sklearn.model_selection.KFold(n_splits=5)\n",
    "\n",
    "mlp = MLPClassifier(max_iter=100, alpha=1e-4, solver='sgd',\n",
    "                    tol=1e-4, random_state=ID,\n",
    "                    learning_rate_init=.1,\n",
    "                    hidden_layer_sizes=(50,))\n",
    "\n",
    "# recall to use cv=kf to use the k-fold subdivision seen in the lectures\n",
    "gsearch = GridSearchCV(mlp, parameters, cv=kf)\n",
    "gsearch.fit(X_train,y_train)\n",
    "\n",
    "print ('RESULTS FOR NN\\n')\n",
    "cvres = pd.DataFrame.from_dict(gsearch.cv_results_)\n",
    "print(cvres)\n",
    "\n",
    "print(\"Best parameters set found:\")\n",
    "display(gsearch.best_params_)\n",
    "\n",
    "print(\"Score with best parameters:\")\n",
    "display(gsearch.best_score_)\n",
    "\n",
    "print(\"\\nAll scores on the grid:\")\n",
    "display(cvres.loc[:,[\"params\",\"mean_test_score\"]])"
   ]
  },
  {
   "cell_type": "markdown",
   "metadata": {},
   "source": [
    "### QUESTION 1 (DONE)\n",
    "\n",
    "What do you observe for different architectures and batch sizes? How do the number of layers and their sizes affect the performances? What do you observe for different batch sizes, in particular what happens to the training convergence for different batch sizes (notice that the algorithm could not converge for some batch sizes)?"
   ]
  },
  {
   "cell_type": "markdown",
   "metadata": {},
   "source": [
    "**We get the best results with a single-layer architecture. With more than one layer the performance drops because the model gets too complicated. However, the best results are obtained with the maximum number of neurons (50) in the single layer. <br>\n",
    "With respect to the batch size, batch sizes of 1 and 480 does not lead to convergence, even if it happens for different reasons. For `batch_size=1` the algorithm does not converge because it's too unstable and the test score is near to 0, while for `batch_size=480` the algorithm does not converge in the 100 maximum iterations (I suppose it is because after 100 iterations the precision is not below the threshold) but still gets a result close to the optimal one of `batch_size=60`.**"
   ]
  },
  {
   "cell_type": "markdown",
   "metadata": {},
   "source": [
    "### DONE 3\n",
    "\n",
    "Plot the train and test accuracies as a function of the number of learnable parameters in your neural network. Print also the computation time for the various configurations you try (the code for getting the computation time is already provided). You can use 100 iterations (if you get a warning on convergence not reached it is not an issue for this lab)"
   ]
  },
  {
   "cell_type": "code",
   "execution_count": 10,
   "metadata": {
    "scrolled": false
   },
   "outputs": [
    {
     "name": "stdout",
     "output_type": "stream",
     "text": [
      "Training MLP of size (8,) ...\n"
     ]
    },
    {
     "name": "stderr",
     "output_type": "stream",
     "text": [
      "/Users/paolozinesi/anaconda3/lib/python3.9/site-packages/sklearn/neural_network/_multilayer_perceptron.py:692: ConvergenceWarning: Stochastic Optimizer: Maximum iterations (100) reached and the optimization hasn't converged yet.\n",
      "  warnings.warn(\n"
     ]
    },
    {
     "name": "stdout",
     "output_type": "stream",
     "text": [
      "Done, training time: 0.30 sec\n",
      "\n",
      "Training MLP of size (10,) ...\n",
      "Done, training time: 0.25 sec\n",
      "\n",
      "Training MLP of size (20,) ...\n",
      "Done, training time: 0.25 sec\n",
      "\n",
      "Training MLP of size (40,) ...\n",
      "Done, training time: 0.31 sec\n",
      "\n",
      "Training MLP of size (50,) ...\n",
      "Done, training time: 0.34 sec\n",
      "\n",
      "Training MLP of size (20, 20) ...\n",
      "Done, training time: 0.19 sec\n",
      "\n",
      "Training MLP of size (40, 20, 10) ...\n",
      "Done, training time: 0.35 sec\n",
      "\n"
     ]
    },
    {
     "data": {
      "image/png": "[encoded data removed]",
      "text/plain": [
       "<Figure size 1080x360 with 2 Axes>"
      ]
     },
     "metadata": {
      "needs_background": "light"
     },
     "output_type": "display_data"
    }
   ],
   "source": [
    "import time\n",
    "from functools import reduce\n",
    "\n",
    "# Function to compute the number of learnable parameters of a mlp given the size of its hidden layers\n",
    "def param_count(hl_size):\n",
    "    tot = 0\n",
    "    input_size, output_size = X_train.shape[1], len(labels)\n",
    "    tot += (input_size+1)*hl_size[0]\n",
    "    for i in range(1,len(hl_size)):\n",
    "        tot += (hl_size[i-1]+1)*hl_size[i]\n",
    "    tot += (hl_size[-1]+1)*output_size\n",
    "    return tot\n",
    "\n",
    "hl_sizes = [(8,), (10,), (20,), (40,), (50,), (20,20,), (40,20,10)]\n",
    "hl_labels = [param_count(t) for t in hl_sizes]\n",
    "\n",
    "ti = time.time()\n",
    "train_acc_list, test_acc_list = [], []\n",
    "for hl_size in hl_sizes:\n",
    "    print('Training MLP of size {} ...'.format(hl_size))\n",
    "    mlp = MLPClassifier(max_iter=100, alpha=1e-4, solver='sgd',\n",
    "                        tol=1e-4, random_state=ID,\n",
    "                        learning_rate_init=.1,\n",
    "                        hidden_layer_sizes=hl_size)\n",
    "    \n",
    "    mlp.fit(X_train,y_train)\n",
    "    \n",
    "    train_acc_list.append(mlp.score(X_train, y_train))\n",
    "    test_acc_list.append(mlp.score(X_test, y_test))\n",
    "    print('Done, training time: {:.2f} sec\\n'.format(time.time()-ti))\n",
    "    ti = time.time()\n",
    "\n",
    "fig, ax = plt.subplots(1,2, figsize=(15,5))\n",
    "\n",
    "\n",
    "ax[0].plot(train_acc_list)\n",
    "ax[0].set_xlabel('Number of learnable params')\n",
    "ax[0].set_title('Train accuracy')\n",
    "ax[0].set_xticks(np.arange(0,len(hl_labels)))\n",
    "ax[0].set_xticklabels(hl_labels)\n",
    "ax[0].grid(True)\n",
    "\n",
    "ax[1].plot(test_acc_list)\n",
    "ax[1].set_xlabel('Number of learnable params')\n",
    "ax[1].set_title('Test accuracy')\n",
    "ax[1].set_xticks(np.arange(0,len(hl_labels)))\n",
    "ax[1].set_xticklabels(hl_labels)\n",
    "ax[1].grid(True)\n"
   ]
  },
  {
   "cell_type": "markdown",
   "metadata": {},
   "source": [
    "## Question 2 (DONE)\n",
    "\n",
    "Comment about the training and test accuracies referring to the discussion on underfitting and overfitting we did in the course"
   ]
  },
  {
   "cell_type": "markdown",
   "metadata": {},
   "source": [
    "**Considering the case with `hidden_layer_size=(8,)` it is possible to see that the training accuracy is 1 for almost all the hidden layer sizes, except for the configuration with the lowest number of learnable parameters. It means that in most of the cases the algorithm fits perfectly the training data, but we are not able to tell if the model will generalize well. This property is checked by the test accuracy plot, which presents a maximum for a particular number of learnable parameters, while other number of parameters present a slightly less test accuracy. <br>\n",
    "Overall, we can claim that the architecture with `hidden_layer_size=(50,)` that has `39760` parameters is the one with best test accuracy. We recall that this is also the best architecture found by the cross-validation procedure (over the training data).**"
   ]
  },
  {
   "cell_type": "markdown",
   "metadata": {},
   "source": [
    "### DONE 4\n",
    "\n",
    "Now try also to use different learning rates, while keeping the best NN architecture and batch size you have found above. Plot the learning curves (i.e., the variation of the loss over the steps, you can get it from the loss_curve_ object of sklearn) for the different values of the learning rate. Try to run each training for 100 iterations. "
   ]
  },
  {
   "cell_type": "code",
   "execution_count": 11,
   "metadata": {},
   "outputs": [
    {
     "name": "stderr",
     "output_type": "stream",
     "text": [
      "/Users/paolozinesi/anaconda3/lib/python3.9/site-packages/sklearn/neural_network/_multilayer_perceptron.py:692: ConvergenceWarning: Stochastic Optimizer: Maximum iterations (100) reached and the optimization hasn't converged yet.\n",
      "  warnings.warn(\n"
     ]
    },
    {
     "data": {
      "image/png": "[encoded data removed]",
      "text/plain": [
       "<Figure size 1080x1080 with 4 Axes>"
      ]
     },
     "metadata": {
      "needs_background": "light"
     },
     "output_type": "display_data"
    },
    {
     "name": "stdout",
     "output_type": "stream",
     "text": [
      "RESULTS FOR NN\n",
      "\n",
      "Best parameters set found (for the test scores):\n",
      "{'learning_rate': 0.2}\n",
      "\n",
      "(Test) Score with best parameters:\n",
      "0.76125\n",
      "\n",
      "All (test) scores on the grid:\n",
      "{'0.002': 0.75025, '0.02': 0.75425, '0.1': 0.74825, '0.2': 0.76125}\n"
     ]
    }
   ],
   "source": [
    "import matplotlib.pyplot as plt\n",
    "import operator\n",
    "\n",
    "lr_list = [0.002, 0.02, 0.1, 0.2]\n",
    "scores = {}\n",
    "fig, axs = plt.subplots(2,2, figsize=(15,15))\n",
    "                       \n",
    "\n",
    "for lr,ax in zip(lr_list, axs.ravel()):\n",
    "    mlp = MLPClassifier(max_iter=100, alpha=1e-4, solver='sgd',\n",
    "                        tol=1e-4, random_state=ID,\n",
    "                        hidden_layer_sizes=(50,), batch_size=60,\n",
    "                        learning_rate_init=lr)\n",
    "    \n",
    "    # fit and update scores list\n",
    "    mlp.fit(X_train,y_train)\n",
    "    scores.update({str(lr):mlp.score(X_test, y_test)})\n",
    "    \n",
    "    # plot learning curves\n",
    "    ax.plot(mlp.loss_curve_)\n",
    "    ax.set_xlabel('Iterations')\n",
    "    ax.set_ylabel('Loss')\n",
    "    ax.set_title('Learning curve for learning rate = '+str(lr))\n",
    "    ax.grid(True)\n",
    "\n",
    "\n",
    "plt.show()\n",
    "print ('RESULTS FOR NN\\n')\n",
    "\n",
    "\n",
    "print(\"Best parameters set found (for the test scores):\")\n",
    "print({\"learning_rate\": float(max(scores, key=scores.get))})\n",
    "\n",
    "print(\"\\n(Test) Score with best parameters:\")\n",
    "print(max(scores.values()))\n",
    "\n",
    "print(\"\\nAll (test) scores on the grid:\")\n",
    "print(scores)\n"
   ]
  },
  {
   "cell_type": "markdown",
   "metadata": {},
   "source": [
    "### QUESTION 3 (DONE)\n",
    "\n",
    "Comment about the learning curves (i.e. the variation of the loss over the steps). How does the curve changes for different learning rates in terms of stability and speed of convergence ?"
   ]
  },
  {
   "cell_type": "markdown",
   "metadata": {},
   "source": [
    "**With `learning_rate=0.002` the convergence is very slow because the stepsizes are too small, in 100 iterations the algorithm does not reach the convergence. With `learning_rate=0.02` the convergence is reached in 100 iterations and the learning curve is smooth due to the small stepsize. With `learning_rate=0.1` and `learning_rate=0.2` the convergence is reached in less than 50 iterations (respectively ~40 and ~25 iterations) but the loss curve is not very smooth. However, this is not a problem because of the high batch size (`batch_size=60`) that adds stability to the algorithm.**"
   ]
  },
  {
   "cell_type": "markdown",
   "metadata": {},
   "source": [
    "### DONE 5\n",
    "\n",
    "Now get training and test error for a NN with best parameters (architecture, batch size and learning rate) from above. Plot the learning curve also for this case (you can run the training for 500 iterations)."
   ]
  },
  {
   "cell_type": "code",
   "execution_count": 12,
   "metadata": {
    "scrolled": false
   },
   "outputs": [
    {
     "name": "stdout",
     "output_type": "stream",
     "text": [
      "\n",
      "RESULTS FOR BEST NN\n",
      "\n",
      "Best NN training error: 0.000000\n",
      "Best NN test error: 0.238750\n"
     ]
    },
    {
     "data": {
      "image/png": "[encoded data removed]",
      "text/plain": [
       "<Figure size 576x576 with 1 Axes>"
      ]
     },
     "metadata": {
      "needs_background": "light"
     },
     "output_type": "display_data"
    }
   ],
   "source": [
    "# get training and test error for the best NN model from CV\n",
    "mlp = MLPClassifier(max_iter=500, alpha=1e-4, solver='sgd',\n",
    "                    tol=1e-4, random_state=ID,\n",
    "                    hidden_layer_sizes=(50,), batch_size=60,\n",
    "                    learning_rate_init=0.2)\n",
    "\n",
    "mlp.fit(X_train, y_train)\n",
    "\n",
    "print ('\\nRESULTS FOR BEST NN\\n')\n",
    "\n",
    "training_error = 1 - mlp.score(X_train, y_train)\n",
    "test_error = 1 - mlp.score(X_test, y_test)\n",
    "print (\"Best NN training error: %f\" % training_error)\n",
    "print (\"Best NN test error: %f\" % test_error)\n",
    "\n",
    "\n",
    "# plot learning curve\n",
    "fig, ax = plt.subplots(1,1, figsize=(8,8))\n",
    "ax.plot(mlp.loss_curve_)\n",
    "ax.set_xlabel('Iterations')\n",
    "ax.set_ylabel('Loss')\n",
    "ax.set_title('Learning curve')\n",
    "ax.grid(True)\n",
    "plt.show()"
   ]
  },
  {
   "cell_type": "markdown",
   "metadata": {},
   "source": [
    "## More data \n",
    "Now let's do the same but using 4000 (or less if it takes too long on your machine) data points for training. Use the same NN architecture as before, but you can try more if you like and have a powerful computer!!"
   ]
  },
  {
   "cell_type": "code",
   "execution_count": 13,
   "metadata": {},
   "outputs": [
    {
     "name": "stdout",
     "output_type": "stream",
     "text": [
      "Labels in training dataset:  [0 1 2 3 4 5 6 7 8 9]\n",
      "Frequencies in training dataset:  [401 407 393 407 404 357 388 421 414 408]\n"
     ]
    }
   ],
   "source": [
    "X = X[permutation]\n",
    "y = y[permutation]\n",
    "\n",
    "m_training = 4000\n",
    "\n",
    "X_train, X_test = X[:m_training], X[m_training:]\n",
    "y_train, y_test = y[:m_training], y[m_training:]\n",
    "\n",
    "labels, freqs = np.unique(y_train, return_counts=True)\n",
    "print(\"Labels in training dataset: \", labels)\n",
    "print(\"Frequencies in training dataset: \", freqs)"
   ]
  },
  {
   "cell_type": "markdown",
   "metadata": {},
   "source": [
    "### DONE 6\n",
    "\n",
    "Now train the NNs with the added data points using the optimum parameters found above. Eventually, feel free to try different architectures if you like. We suggest that you use 'verbose=True' so have an idea of how long it takes to run 1 iteration (eventually reduce also the number of iterations to 50)."
   ]
  },
  {
   "cell_type": "code",
   "execution_count": 14,
   "metadata": {},
   "outputs": [
    {
     "name": "stdout",
     "output_type": "stream",
     "text": [
      "Iteration 1, loss = 0.90791980\n",
      "Iteration 2, loss = 0.51957056\n",
      "Iteration 3, loss = 0.37543638\n",
      "Iteration 4, loss = 0.29839882\n",
      "Iteration 5, loss = 0.21356834\n",
      "Iteration 6, loss = 0.17363704\n",
      "Iteration 7, loss = 0.12743886\n",
      "Iteration 8, loss = 0.10769712\n",
      "Iteration 9, loss = 0.11993611\n",
      "Iteration 10, loss = 0.11530574\n",
      "Iteration 11, loss = 0.11968581\n",
      "Iteration 12, loss = 0.12187703\n",
      "Iteration 13, loss = 0.08748467\n",
      "Iteration 14, loss = 0.09149640\n",
      "Iteration 15, loss = 0.05063932\n",
      "Iteration 16, loss = 0.08369095\n",
      "Iteration 17, loss = 0.05160108\n",
      "Iteration 18, loss = 0.08854876\n",
      "Iteration 19, loss = 0.10727672\n",
      "Iteration 20, loss = 0.14203515\n",
      "Iteration 21, loss = 0.15383640\n",
      "Iteration 22, loss = 0.13269481\n",
      "Iteration 23, loss = 0.16466230\n",
      "Iteration 24, loss = 0.07142292\n",
      "Iteration 25, loss = 0.06989512\n",
      "Iteration 26, loss = 0.11814162\n",
      "Training loss did not improve more than tol=0.000100 for 10 consecutive epochs. Stopping.\n",
      "\n",
      "RESULTS FOR large_NN\n",
      "\n",
      "large_NN training error: 0.014250\n",
      "large_NN test error: 0.156339\n"
     ]
    }
   ],
   "source": [
    "# use best architecture and params from before\n",
    "\n",
    "mlp_large = MLPClassifier(max_iter=100, alpha=1e-4, solver='sgd',\n",
    "                    tol=1e-4, random_state=ID,\n",
    "                    hidden_layer_sizes=(50,), batch_size=60,\n",
    "                    learning_rate_init=0.2, verbose=True)\n",
    "\n",
    "mlp_large.fit(X_train, y_train)\n",
    "\n",
    "print ('\\nRESULTS FOR large_NN\\n')\n",
    "\n",
    "# get training and test error for the large_NN\n",
    "\n",
    "training_error = 1 - mlp_large.score(X_train, y_train)\n",
    "test_error = 1 - mlp_large.score(X_test, y_test)\n",
    "\n",
    "print (\"large_NN training error: %f\" % training_error)\n",
    "print (\"large_NN test error: %f\" % test_error)\n"
   ]
  },
  {
   "cell_type": "markdown",
   "metadata": {},
   "source": [
    "## QUESTION 4 (DONE)\n",
    "Compare the train and test error you got with a large number of samples with the best one you obtained with only 600 data points. Comment about the results you obtained."
   ]
  },
  {
   "cell_type": "markdown",
   "metadata": {},
   "source": [
    "**With `m_training=600`, `training_error=0.0` exactly and `test_error=0.238750`.<br>\n",
    "With  `m_training=4000`, `training_error=0.014250` and `test_error=0.156339`.<br>\n",
    "It means that the training with 600 samples is very successful because the algorithm finds a model to fit all of the data (maybe leading to overfitting) but this model is not general enough. Meanwhile, the training with 4000 samples is not completely successful (it fits wrongly ~1.5% of the training data) but the model that is found is more general and the test error is lower. So, the model found with `m_training=4000` is the best one to make predictions.**"
   ]
  },
  {
   "cell_type": "markdown",
   "metadata": {},
   "source": [
    "### DONE 7\n",
    "\n",
    "Plot an example that was missclassified by NN with m=600 training data points and it is now instead correctly classified by NN with m=4000 training data points."
   ]
  },
  {
   "cell_type": "code",
   "execution_count": 15,
   "metadata": {},
   "outputs": [
    {
     "name": "stdout",
     "output_type": "stream",
     "text": [
      "First 20 elements of the true labels and of the predictions:\n",
      "NN predictions =\t [2 1 8 8 9 3 4 1 8 7 1 1 9 5 2 5 3 2 2 8]\n",
      "large_NN predictions =\t [3 2 1 8 2 3 4 6 8 9 1 9 9 8 2 3 5 6 2 8]\n",
      "True labels =\t\t [3 2 1 8 9 3 6 1 8 7 1 9 9 8 2 3 3 6 2 8]\n",
      "\n",
      "Taking the sample at index 0:\n",
      "Label predicted by NN:\t\t 2\n",
      "Label predicted by large_NN:\t 3\n",
      "Real label:\t\t\t 3 \n",
      "\n",
      "\n",
      "Plot of the sample that creates confusion\n",
      "INPUT:\n"
     ]
    },
    {
     "data": {
      "image/png": "[encoded data removed]",
      "text/plain": [
       "<Figure size 432x288 with 1 Axes>"
      ]
     },
     "metadata": {
      "needs_background": "light"
     },
     "output_type": "display_data"
    },
    {
     "name": "stdout",
     "output_type": "stream",
     "text": [
      "LABEL: 3\n",
      "\n",
      "\n",
      "Plot of a sample that has really the label 2 (for comparison):\n",
      "INPUT:\n"
     ]
    },
    {
     "data": {
      "image/png": "[encoded data removed]",
      "text/plain": [
       "<Figure size 432x288 with 1 Axes>"
      ]
     },
     "metadata": {
      "needs_background": "light"
     },
     "output_type": "display_data"
    },
    {
     "name": "stdout",
     "output_type": "stream",
     "text": [
      "LABEL: 2\n"
     ]
    }
   ],
   "source": [
    "NN_prediction = mlp.predict(X_test)\n",
    "large_NN_prediction = mlp_large.predict(X_test)\n",
    "\n",
    "# show the first 20 elements of the predictions to compare\n",
    "print(\"First 20 elements of the true labels and of the predictions:\")\n",
    "print(\"NN predictions =\\t\", NN_prediction[:20])\n",
    "print(\"large_NN predictions =\\t\", large_NN_prediction[:20])\n",
    "print(\"True labels =\\t\\t\", y_test[:20])\n",
    "\n",
    "# find misclassified index\n",
    "mis_mask = list((large_NN_prediction==y_test) & (NN_prediction!=y_test))\n",
    "mis_index = mis_mask.index(True)\n",
    "\n",
    "# plot the misclassified index of the linear regression\n",
    "print(\"\\nTaking the sample at index %i:\" % mis_index)\n",
    "print(\"Label predicted by NN:\\t\\t %i\" % NN_prediction[mis_index])\n",
    "print(\"Label predicted by large_NN:\\t %i\" % large_NN_prediction[mis_index])\n",
    "print(\"Real label:\\t\\t\\t %i \\n\" % y_test[mis_index])\n",
    "\n",
    "print(\"\\nPlot of the sample that creates confusion\")\n",
    "plot_input(X_test,y_test,mis_index)\n",
    "\n",
    "print(\"\\n\\nPlot of a sample that has really the label %i (for comparison):\" % NN_prediction[mis_index])\n",
    "plot_input(X_test,y_test,list(y_test).index(NN_prediction[mis_index]))"
   ]
  },
  {
   "cell_type": "markdown",
   "metadata": {},
   "source": [
    "### DONE 8\n",
    "\n",
    "Let's plot the weigths of the multi-layer perceptron classifier, for the best NN we get with 600 data points and with 4000 data points. The code is already provided, just fix variable names (e.g., replace mlp , mlp_large with your estimators) in order to have it working with your implementation\n",
    "\n"
   ]
  },
  {
   "cell_type": "code",
   "execution_count": 16,
   "metadata": {},
   "outputs": [
    {
     "name": "stdout",
     "output_type": "stream",
     "text": [
      "Weights with 600 data points:\n"
     ]
    },
    {
     "data": {
      "image/png": "[encoded data removed]",
      "text/plain": [
       "<Figure size 432x288 with 16 Axes>"
      ]
     },
     "metadata": {},
     "output_type": "display_data"
    },
    {
     "name": "stdout",
     "output_type": "stream",
     "text": [
      "Weights with 4000 data points:\n"
     ]
    },
    {
     "data": {
      "image/png": "[encoded data removed]",
      "text/plain": [
       "<Figure size 432x288 with 16 Axes>"
      ]
     },
     "metadata": {},
     "output_type": "display_data"
    }
   ],
   "source": [
    "print(\"Weights with 600 data points:\")\n",
    "\n",
    "fig, axes = plt.subplots(4, 4)\n",
    "vmin, vmax = mlp.coefs_[0].min(), mlp.coefs_[0].max()\n",
    "for coef, ax in zip(mlp.coefs_[0].T, axes.ravel()):\n",
    "    ax.matshow(coef.reshape(28, 28), cmap=plt.cm.gray, vmin=.5 * vmin,\n",
    "               vmax=.5 * vmax)\n",
    "    ax.set_xticks(())\n",
    "    ax.set_yticks(())\n",
    "\n",
    "plt.show()\n",
    "\n",
    "print(\"Weights with 4000 data points:\")\n",
    "\n",
    "fig, axes = plt.subplots(4, 4)\n",
    "vmin, vmax = mlp_large.coefs_[0].min(), mlp_large.coefs_[0].max()\n",
    "for coef, ax in zip(mlp_large.coefs_[0].T, axes.ravel()):\n",
    "    ax.matshow(coef.reshape(28, 28), cmap=plt.cm.gray, vmin=.5 * vmin,\n",
    "               vmax=.5 * vmax)\n",
    "    ax.set_xticks(())\n",
    "    ax.set_yticks(())\n",
    "plt.show()"
   ]
  },
  {
   "cell_type": "markdown",
   "metadata": {},
   "source": [
    "## QUESTION 5 (DONE)\n",
    "\n",
    "Describe what do you observe by looking at the weights."
   ]
  },
  {
   "cell_type": "markdown",
   "metadata": {},
   "source": [
    "**It is difficult to interpret the images here. The only difference that I can spot among these two sets of weights is that the set with `m_training=600` shows less defined weights w.r.t. the set with `m_training=4000`.<br>\n",
    "This could be caused by the larger number of samples used for training in the second set, because a larger number of training samples makes the training algorithm to be evaluated more times. The pattern of each image starts to be recognizable when `m_training=600`, but with more training samples it becomes more defined. So, it is more common to see white spots (that corresponds to weights near to the minimum in that colormap) in the images below than in the images above (where grey is more common).<br>\n",
    "However, there are a few exceptions. Some weights in the set below are completely grey and no pattern emerges, while their corresponding images in the set above show some pattern (even if it's not weel defined).**"
   ]
  },
  {
   "cell_type": "markdown",
   "metadata": {},
   "source": [
    "### DONE 9\n",
    "\n",
    "Take the best SVM model and its parameters, you found in the last notebook. Fit it on a few data points and compute its training and test scores (**did you mean 'errors'?**). Then fit also a logistic regression model with C=1.<br>\n",
    "**I changed the default number of training samples to `m_training = 4000` otherwise the comparison in QUESTION 6 would have been unfair.**  "
   ]
  },
  {
   "cell_type": "code",
   "execution_count": 17,
   "metadata": {},
   "outputs": [
    {
     "name": "stdout",
     "output_type": "stream",
     "text": [
      "RESULTS FOR SVM\n",
      "Training error SVM:\n",
      "0.0\n",
      "Test error SVM:\n",
      "0.08799999999999997\n"
     ]
    }
   ],
   "source": [
    "m_training = 4000\n",
    "\n",
    "X_train, X_test = X[:m_training], X[m_training:2*m_training]\n",
    "y_train, y_test = y[:m_training], y[m_training:2*m_training]\n",
    "\n",
    "# use best parameters found in the SVM notebook, create SVM and perform fitting\n",
    "SVM = SVC(kernel=\"rbf\", C=10, gamma=0.01)\n",
    "SVM.fit(X_train,y_train)\n",
    "\n",
    "print ('RESULTS FOR SVM')\n",
    "\n",
    "SVM_training_error = 1 - SVM.score(X_train,y_train)\n",
    "\n",
    "print(\"Training error SVM:\")\n",
    "print(SVM_training_error)\n",
    "\n",
    "SVM_test_error = 1 - SVM.score(X_test,y_test)\n",
    "print(\"Test error SVM:\")\n",
    "print(SVM_test_error)"
   ]
  },
  {
   "cell_type": "code",
   "execution_count": 18,
   "metadata": {},
   "outputs": [
    {
     "name": "stdout",
     "output_type": "stream",
     "text": [
      "\n",
      "RESULTS FOR LOGISTIC REGRESSION WITH REGULARIZATION\n",
      "Training error (reg): 0.015000\n",
      "Test error (reg): 0.241250\n"
     ]
    }
   ],
   "source": [
    "from sklearn import linear_model\n",
    "\n",
    "regL2 = linear_model.LogisticRegression(C=1, max_iter=1e3)\n",
    "regL2.fit(X_train,y_train)\n",
    "\n",
    "print ('\\nRESULTS FOR LOGISTIC REGRESSION WITH REGULARIZATION')\n",
    "\n",
    "training_error =  1 - regL2.score(X_train,y_train)\n",
    "test_error =  1 - regL2.score(X_test,y_test)\n",
    "\n",
    "print (\"Training error (reg): %f\" % training_error)\n",
    "print (\"Test error (reg): %f\" % test_error)"
   ]
  },
  {
   "cell_type": "markdown",
   "metadata": {},
   "source": [
    "## QUESTION 6 (DONE)\n",
    "Compare the results of Logistic Regression, SVM and NN. Which one achieve the best results? "
   ]
  },
  {
   "cell_type": "markdown",
   "metadata": {},
   "source": [
    "**The following comparisons are made considering `m_training = 4000`.<br>\n",
    "Logistic Regression with regularization achieved `training_error = 0.015000` and `test_error = 0.241250`.<br>\n",
    "SVM achieved `training_error = 0.0` exactly and `test_error = 0.088000`.<br>\n",
    "NN achieved `training_error = 0.014250` exactly and `test_error = 0.156339`.<br>\n",
    "In this classification problem the SVM classifier is the best performing one (both during training and testing). But it also needs more computational time to be trained.**"
   ]
  },
  {
   "cell_type": "code",
   "execution_count": null,
   "metadata": {},
   "outputs": [],
   "source": []
  }
 ],
 "metadata": {
  "kernelspec": {
   "display_name": "Python 3 (ipykernel)",
   "language": "python",
   "name": "python3"
  },
  "language_info": {
   "codemirror_mode": {
    "name": "ipython",
    "version": 3
   },
   "file_extension": ".py",
   "mimetype": "text/x-python",
   "name": "python",
   "nbconvert_exporter": "python",
   "pygments_lexer": "ipython3",
   "version": "3.9.7"
  }
 },
 "nbformat": 4,
 "nbformat_minor": 4
}
